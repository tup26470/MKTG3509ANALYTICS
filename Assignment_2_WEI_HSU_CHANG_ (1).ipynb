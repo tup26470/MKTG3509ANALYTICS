{
  "nbformat": 4,
  "nbformat_minor": 0,
  "metadata": {
    "colab": {
      "name": "Assignment 2 WEI HSU CHANG .ipynb",
      "provenance": []
    },
    "kernelspec": {
      "name": "python3",
      "display_name": "Python 3"
    },
    "language_info": {
      "name": "python"
    }
  },
  "cells": [
    {
      "cell_type": "code",
      "metadata": {
        "colab": {
          "base_uri": "https://localhost:8080/"
        },
        "id": "QVWnR2QxiG-d",
        "outputId": "6016d087-a1fc-481e-dcb7-6f16e77eddca"
      },
      "source": [
        "customers = [('Adam', 'Smith'),('Mary', 'Samsonite'),('Pancho', 'Sanchez'),('Lily', 'Wang'),('Curtis', 'Jackson'),('Anne', 'Shirley'),('Alex', 'Hamilton'),('Bill', 'Shakespeare'),('Steve', 'Sondeheim')]\n",
        "acustomers =[f for f in customers if f[0].upper()[0]=='A']\n",
        "print(acustomers)"
      ],
      "execution_count": null,
      "outputs": [
        {
          "output_type": "stream",
          "name": "stdout",
          "text": [
            "[('Adam', 'Smith'), ('Anne', 'Shirley'), ('Alex', 'Hamilton')]\n"
          ]
        }
      ]
    },
    {
      "cell_type": "code",
      "metadata": {
        "id": "s6PE55ZglXnD"
      },
      "source": [
        "def breakevenprice(FC, MC, Q):\n",
        "  P = FC/Q + MC\n",
        "  return P"
      ],
      "execution_count": null,
      "outputs": []
    },
    {
      "cell_type": "code",
      "metadata": {
        "colab": {
          "base_uri": "https://localhost:8080/"
        },
        "id": "CKbB4An19qab",
        "outputId": "997287a6-4417-4cc4-a4ca-43f4eebbeb8a"
      },
      "source": [
        "Quantities =[500,1000,1500,2000,2500,3000]\n",
        "FC = 20000\n",
        "MC = 20\n",
        "BEPrices =[]\n",
        "for Q in Quantities:\n",
        "    P = breakevenprice(FC,MC,Q)\n",
        "    BEPrices.append(P)\n",
        "print(BEPrices)"
      ],
      "execution_count": null,
      "outputs": [
        {
          "output_type": "stream",
          "name": "stdout",
          "text": [
            "[60.0, 40.0, 33.333333333333336, 30.0, 28.0, 26.666666666666668]\n"
          ]
        }
      ]
    },
    {
      "cell_type": "code",
      "metadata": {
        "id": "j0a9xRK8_En0"
      },
      "source": [
        "def offer(leadrec):\n",
        "  offer=[]\n",
        "  id=leadrec[0]\n",
        "  income=leadrec[1]\n",
        "  debt=leadrec[2]\n",
        "  married=leadrec[3]\n",
        "  if income>=2*debt:\n",
        "    offer='A'\n",
        "  elif (income<2*debt)&(income>=debt/2)&(married==1):\n",
        "    offer='B'\n",
        "  else:\n",
        "    offer='None'\n",
        "  return offer"
      ],
      "execution_count": null,
      "outputs": []
    },
    {
      "cell_type": "code",
      "metadata": {
        "id": "YJ5nMp3dLDHf"
      },
      "source": [
        "r=(1,25000,12000,0)"
      ],
      "execution_count": null,
      "outputs": []
    },
    {
      "cell_type": "code",
      "metadata": {
        "colab": {
          "base_uri": "https://localhost:8080/",
          "height": 34
        },
        "id": "w23U6eYRshAc",
        "outputId": "295b870e-b594-423d-b513-1eb7fd8d0147"
      },
      "source": [
        "offer(r)"
      ],
      "execution_count": null,
      "outputs": [
        {
          "output_type": "execute_result",
          "data": {
            "application/vnd.google.colaboratory.intrinsic+json": {
              "type": "string"
            },
            "text/plain": [
              "'A'"
            ]
          },
          "metadata": {},
          "execution_count": 6
        }
      ]
    },
    {
      "cell_type": "code",
      "metadata": {
        "id": "dS_aTPhkslEr"
      },
      "source": [
        "leads = [(1, 25000,12000,1),(2, 50000,25000,0),(3, 125000,200000,1),(4, 25000,0,0),(5, 30000,80000,1),(5, 50000,80000,0)]"
      ],
      "execution_count": null,
      "outputs": []
    },
    {
      "cell_type": "code",
      "metadata": {
        "colab": {
          "base_uri": "https://localhost:8080/"
        },
        "id": "5h1oXn2Fs-Se",
        "outputId": "7e7b3b31-d4c9-410b-e5e8-2b46f15f62a5"
      },
      "source": [
        "for x in leads:\n",
        "  print(offer(x))"
      ],
      "execution_count": null,
      "outputs": [
        {
          "output_type": "stream",
          "name": "stdout",
          "text": [
            "A\n",
            "A\n",
            "B\n",
            "A\n",
            "None\n",
            "None\n"
          ]
        }
      ]
    },
    {
      "cell_type": "code",
      "metadata": {
        "id": "p7Aze37WtM0x"
      },
      "source": [
        ""
      ],
      "execution_count": null,
      "outputs": []
    }
  ]
}