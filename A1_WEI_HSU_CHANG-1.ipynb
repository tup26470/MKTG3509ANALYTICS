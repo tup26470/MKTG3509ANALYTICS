{
  "nbformat": 4,
  "nbformat_minor": 0,
  "metadata": {
    "colab": {
      "name": "A1 WEI-HSU CHANG.ipynb",
      "provenance": []
    },
    "kernelspec": {
      "name": "python3",
      "display_name": "Python 3"
    },
    "language_info": {
      "name": "python"
    }
  },
  "cells": [
    {
      "cell_type": "markdown",
      "metadata": {
        "id": "Z-N2dtPBsL_4"
      },
      "source": [
        "##<center>Resume of WEI-HSU CHANG"
      ]
    },
    {
      "cell_type": "markdown",
      "metadata": {
        "id": "lKkf6-gpu0KM"
      },
      "source": [
        "###Contact\n"
      ]
    },
    {
      "cell_type": "markdown",
      "metadata": {
        "id": "scgFOrBu7HNw"
      },
      "source": [
        "Email:tup26470@temple.edu   website:https://www.linkedin.com/feed/?trk=guest_homepage-basic_nav-header-signin\n",
        "\n"
      ]
    },
    {
      "cell_type": "markdown",
      "metadata": {
        "id": "pUjtK25XvLA8"
      },
      "source": [
        "###Summery\n",
        "\n"
      ]
    },
    {
      "cell_type": "markdown",
      "metadata": {
        "id": "Y-5_R-a9_PNr"
      },
      "source": [
        "Im chang an international student from taiwan. I can be either a good teamplayer or an independent person, while facing disagreement, i will calmly and petiently communicate with others., and seek for the most accurate and appropriate way to accomplish the work. I\n",
        "am also highly motivated, through continuous learning and combining with practice, I believe there will be plenty of\n",
        "effects in the future. I have always been interested in marketing, therefore I chose marketing as major. During the years in university, I hope to have more hands on experiences, so I worked as a sales\n",
        "associate at the exhibition also being an oversea intern in enterprise during summer vacation. These experiences\n",
        "not only made me more aware of the practical use I have learned at school but determine on my future ambitions."
      ]
    },
    {
      "cell_type": "markdown",
      "metadata": {
        "id": "uj7FakZdvTT2"
      },
      "source": [
        "###Education\n"
      ]
    },
    {
      "cell_type": "markdown",
      "metadata": {
        "id": "Ez_abtMqCOTa"
      },
      "source": [
        "2021- Temple university Marketing majors\n",
        "\n",
        "\n",
        "2020-2021 Chung Yuan Christian University"
      ]
    },
    {
      "cell_type": "markdown",
      "metadata": {
        "id": "dmx2H00ovknp"
      },
      "source": [
        "###Experiences"
      ]
    },
    {
      "cell_type": "markdown",
      "metadata": {
        "id": "zGLhn5xsTpQF"
      },
      "source": [
        "**2020/09-2021/06** **Chung Yuan Christian University**\n",
        "\n",
        "\n",
        "*  CYCU international ambassdor (Taiwan)\n",
        "\n",
        "\n",
        "\n"
      ]
    },
    {
      "cell_type": "markdown",
      "metadata": {
        "id": "4wxw_kcqvo-h"
      },
      "source": [
        "**2020/07-2021/06 / Taiwan Sinyi Realty**\n",
        "**Intership**\n",
        "\n",
        "1.Organize advertising performance, posting reports, payment request of \n",
        "\n",
        "\n",
        "2.advertising costs | Line posts and editors\n",
        "\n",
        "3.Facebook advertising posts and edito | Generate advising materials for all departments\n",
        "\n",
        "4.Running blogs and advertising development"
      ]
    },
    {
      "cell_type": "markdown",
      "metadata": {
        "id": "7XvkinXKVKxd"
      },
      "source": [
        "###Skills"
      ]
    },
    {
      "cell_type": "markdown",
      "metadata": {
        "id": "o_mEIB0BSVLN"
      },
      "source": [
        "1.Able to effectively utilize knowledge and skills gained from overseas internship experiences\n",
        "\n",
        "2.Able to communicate clearly, accurately and fluently in both chinese and english\n",
        "\n",
        "3.Steady and responsible personality made me affirmed by my supervisor"
      ]
    },
    {
      "cell_type": "code",
      "metadata": {
        "id": "iPFilJrgWMXo"
      },
      "source": [
        ""
      ],
      "execution_count": null,
      "outputs": []
    },
    {
      "cell_type": "markdown",
      "metadata": {
        "id": "yxP8GjhwW6At"
      },
      "source": [
        "###Personal"
      ]
    },
    {
      "cell_type": "markdown",
      "metadata": {
        "id": "H_HhgEp1W8er"
      },
      "source": [
        "**Aviation**\n",
        "\n",
        "**Poano**"
      ]
    },
    {
      "cell_type": "code",
      "metadata": {
        "id": "QHcUEweCiWwB"
      },
      "source": [
        ""
      ],
      "execution_count": null,
      "outputs": []
    }
  ]
}