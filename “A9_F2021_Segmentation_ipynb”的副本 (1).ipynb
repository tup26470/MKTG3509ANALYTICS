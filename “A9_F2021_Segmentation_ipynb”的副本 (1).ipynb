{
  "nbformat": 4,
  "nbformat_minor": 0,
  "metadata": {
    "colab": {
      "name": "“A9 F2021 Segmentation.ipynb”的副本",
      "provenance": [],
      "collapsed_sections": []
    },
    "kernelspec": {
      "name": "python3",
      "display_name": "Python 3"
    }
  },
  "cells": [
    {
      "cell_type": "markdown",
      "metadata": {
        "id": "v8tuBEKOxdJH"
      },
      "source": [
        "# A9 Customer Segmentation\n",
        "\n",
        "**Rationale** The idea for this assignment is to give you hands on experience in applying behavioral segmentation techniques to real world data where the variables you use for segmentation are not already created for you (you must define them first). Thus you must first do \"feature engineering\" before you can do segmentation. Don't worry, this problem is broken down into components.\n",
        "\n",
        "The dataset we use is [retail invoice](https://drive.google.com/drive/folders/1IUq9xm_0jWEs41iFp8TSWpb0CbPiT87m?usp=sharing). Each invoice is one purchase occassion, and for each invoice we have several observations representing the unique items (stockcode) purchased on that occassion.\n",
        "\n",
        "The goal of the first part is to create useful features about each consumer's observed behaviors, i.e. go from transaction level to customer level data. The goal of the second part is to then do behavioral segmentation based on these newly constructed features. "
      ]
    },
    {
      "cell_type": "markdown",
      "metadata": {
        "id": "B3dWWTS5s0CG"
      },
      "source": [
        "# Part 1 Feature Engineering (5 points)\n",
        "\n",
        "Generally, feature engineering is where your marketing domain knowledge comes into play. In other words, your intuitions about what matters in terms of separating consumers into different groups should drive what features (aka variables/columns) to create. However, in this assignment, you are expected to compute the characteristics detailed in the following instructions.\n"
      ]
    },
    {
      "cell_type": "markdown",
      "metadata": {
        "id": "kuRzBzBmtCeN"
      },
      "source": [
        "Read in the data, preview it, and familiarize yourself with the contents of the data."
      ]
    },
    {
      "cell_type": "code",
      "metadata": {
        "colab": {
          "base_uri": "https://localhost:8080/"
        },
        "id": "tGm3SB4BtEGQ",
        "outputId": "44916b08-ef93-4d98-c6a8-e825919e39a5"
      },
      "source": [
        "import pandas as pd, numpy as np, os, matplotlib.pyplot as plt\n",
        "from google.colab import drive\n",
        "from sklearn.decomposition import PCA\n",
        "from sklearn.cluster import KMeans\n",
        "drive.mount('drive', force_remount=True)"
      ],
      "execution_count": 275,
      "outputs": [
        {
          "output_type": "stream",
          "name": "stdout",
          "text": [
            "Mounted at drive\n"
          ]
        }
      ]
    },
    {
      "cell_type": "code",
      "metadata": {
        "colab": {
          "base_uri": "https://localhost:8080/"
        },
        "id": "A16TwN9btXws",
        "outputId": "d6e37b50-a514-4aca-e82d-a5571f6f247b"
      },
      "source": [
        "fpath = 'drive/MyDrive/A9/' # change the path here\n",
        "os.listdir(fpath)"
      ],
      "execution_count": 276,
      "outputs": [
        {
          "output_type": "execute_result",
          "data": {
            "text/plain": [
              "['online_invoices.gsheet', 'online_invoices.csv']"
            ]
          },
          "metadata": {},
          "execution_count": 276
        }
      ]
    },
    {
      "cell_type": "code",
      "metadata": {
        "id": "-lVcVTC9tgmm"
      },
      "source": [
        "# Read in the data (csv file)\n",
        "invoices = pd.read_csv(fpath + 'online_invoices.csv', index_col = 0)"
      ],
      "execution_count": 277,
      "outputs": []
    },
    {
      "cell_type": "code",
      "metadata": {
        "id": "VKsPGGcLtn_w",
        "colab": {
          "base_uri": "https://localhost:8080/",
          "height": 423
        },
        "outputId": "887a061b-bda8-4433-ed00-805993a79f82"
      },
      "source": [
        "# Preview the data\n",
        "invoices"
      ],
      "execution_count": 278,
      "outputs": [
        {
          "output_type": "execute_result",
          "data": {
            "text/html": [
              "<div>\n",
              "<style scoped>\n",
              "    .dataframe tbody tr th:only-of-type {\n",
              "        vertical-align: middle;\n",
              "    }\n",
              "\n",
              "    .dataframe tbody tr th {\n",
              "        vertical-align: top;\n",
              "    }\n",
              "\n",
              "    .dataframe thead th {\n",
              "        text-align: right;\n",
              "    }\n",
              "</style>\n",
              "<table border=\"1\" class=\"dataframe\">\n",
              "  <thead>\n",
              "    <tr style=\"text-align: right;\">\n",
              "      <th></th>\n",
              "      <th>InvoiceNo</th>\n",
              "      <th>StockCode</th>\n",
              "      <th>Description</th>\n",
              "      <th>Quantity</th>\n",
              "      <th>InvoiceDate</th>\n",
              "      <th>UnitPrice</th>\n",
              "      <th>CustomerID</th>\n",
              "      <th>Country</th>\n",
              "    </tr>\n",
              "  </thead>\n",
              "  <tbody>\n",
              "    <tr>\n",
              "      <th>0</th>\n",
              "      <td>536365</td>\n",
              "      <td>85123A</td>\n",
              "      <td>WHITE HANGING HEART T-LIGHT HOLDER</td>\n",
              "      <td>6</td>\n",
              "      <td>12/1/2010 8:26</td>\n",
              "      <td>2.55</td>\n",
              "      <td>17850.0</td>\n",
              "      <td>United Kingdom</td>\n",
              "    </tr>\n",
              "    <tr>\n",
              "      <th>1</th>\n",
              "      <td>536365</td>\n",
              "      <td>71053</td>\n",
              "      <td>WHITE METAL LANTERN</td>\n",
              "      <td>6</td>\n",
              "      <td>12/1/2010 8:26</td>\n",
              "      <td>3.39</td>\n",
              "      <td>17850.0</td>\n",
              "      <td>United Kingdom</td>\n",
              "    </tr>\n",
              "    <tr>\n",
              "      <th>2</th>\n",
              "      <td>536365</td>\n",
              "      <td>84406B</td>\n",
              "      <td>CREAM CUPID HEARTS COAT HANGER</td>\n",
              "      <td>8</td>\n",
              "      <td>12/1/2010 8:26</td>\n",
              "      <td>2.75</td>\n",
              "      <td>17850.0</td>\n",
              "      <td>United Kingdom</td>\n",
              "    </tr>\n",
              "    <tr>\n",
              "      <th>3</th>\n",
              "      <td>536365</td>\n",
              "      <td>84029G</td>\n",
              "      <td>KNITTED UNION FLAG HOT WATER BOTTLE</td>\n",
              "      <td>6</td>\n",
              "      <td>12/1/2010 8:26</td>\n",
              "      <td>3.39</td>\n",
              "      <td>17850.0</td>\n",
              "      <td>United Kingdom</td>\n",
              "    </tr>\n",
              "    <tr>\n",
              "      <th>4</th>\n",
              "      <td>536365</td>\n",
              "      <td>84029E</td>\n",
              "      <td>RED WOOLLY HOTTIE WHITE HEART.</td>\n",
              "      <td>6</td>\n",
              "      <td>12/1/2010 8:26</td>\n",
              "      <td>3.39</td>\n",
              "      <td>17850.0</td>\n",
              "      <td>United Kingdom</td>\n",
              "    </tr>\n",
              "    <tr>\n",
              "      <th>...</th>\n",
              "      <td>...</td>\n",
              "      <td>...</td>\n",
              "      <td>...</td>\n",
              "      <td>...</td>\n",
              "      <td>...</td>\n",
              "      <td>...</td>\n",
              "      <td>...</td>\n",
              "      <td>...</td>\n",
              "    </tr>\n",
              "    <tr>\n",
              "      <th>541904</th>\n",
              "      <td>581587</td>\n",
              "      <td>22613</td>\n",
              "      <td>PACK OF 20 SPACEBOY NAPKINS</td>\n",
              "      <td>12</td>\n",
              "      <td>12/9/2011 12:50</td>\n",
              "      <td>0.85</td>\n",
              "      <td>12680.0</td>\n",
              "      <td>France</td>\n",
              "    </tr>\n",
              "    <tr>\n",
              "      <th>541905</th>\n",
              "      <td>581587</td>\n",
              "      <td>22899</td>\n",
              "      <td>CHILDREN'S APRON DOLLY GIRL</td>\n",
              "      <td>6</td>\n",
              "      <td>12/9/2011 12:50</td>\n",
              "      <td>2.10</td>\n",
              "      <td>12680.0</td>\n",
              "      <td>France</td>\n",
              "    </tr>\n",
              "    <tr>\n",
              "      <th>541906</th>\n",
              "      <td>581587</td>\n",
              "      <td>23254</td>\n",
              "      <td>CHILDRENS CUTLERY DOLLY GIRL</td>\n",
              "      <td>4</td>\n",
              "      <td>12/9/2011 12:50</td>\n",
              "      <td>4.15</td>\n",
              "      <td>12680.0</td>\n",
              "      <td>France</td>\n",
              "    </tr>\n",
              "    <tr>\n",
              "      <th>541907</th>\n",
              "      <td>581587</td>\n",
              "      <td>23255</td>\n",
              "      <td>CHILDRENS CUTLERY CIRCUS PARADE</td>\n",
              "      <td>4</td>\n",
              "      <td>12/9/2011 12:50</td>\n",
              "      <td>4.15</td>\n",
              "      <td>12680.0</td>\n",
              "      <td>France</td>\n",
              "    </tr>\n",
              "    <tr>\n",
              "      <th>541908</th>\n",
              "      <td>581587</td>\n",
              "      <td>22138</td>\n",
              "      <td>BAKING SET 9 PIECE RETROSPOT</td>\n",
              "      <td>3</td>\n",
              "      <td>12/9/2011 12:50</td>\n",
              "      <td>4.95</td>\n",
              "      <td>12680.0</td>\n",
              "      <td>France</td>\n",
              "    </tr>\n",
              "  </tbody>\n",
              "</table>\n",
              "<p>396337 rows × 8 columns</p>\n",
              "</div>"
            ],
            "text/plain": [
              "        InvoiceNo StockCode  ... CustomerID         Country\n",
              "0          536365    85123A  ...    17850.0  United Kingdom\n",
              "1          536365     71053  ...    17850.0  United Kingdom\n",
              "2          536365    84406B  ...    17850.0  United Kingdom\n",
              "3          536365    84029G  ...    17850.0  United Kingdom\n",
              "4          536365    84029E  ...    17850.0  United Kingdom\n",
              "...           ...       ...  ...        ...             ...\n",
              "541904     581587     22613  ...    12680.0          France\n",
              "541905     581587     22899  ...    12680.0          France\n",
              "541906     581587     23254  ...    12680.0          France\n",
              "541907     581587     23255  ...    12680.0          France\n",
              "541908     581587     22138  ...    12680.0          France\n",
              "\n",
              "[396337 rows x 8 columns]"
            ]
          },
          "metadata": {},
          "execution_count": 278
        }
      ]
    },
    {
      "cell_type": "markdown",
      "metadata": {
        "id": "Ui2NVHT2t6Vu"
      },
      "source": [
        "**Answer questions here**\n",
        "\n",
        "What does each row represent? _______c________ (pick one)\n",
        "\n",
        "A. 1 invoice (1 point of sale transaction) \\\\\n",
        "B. A single item sold \\\\\n",
        "C. Each unique item sold in a transaction \\\\\n",
        "D. Daily sales \\\\\n",
        "E. 1 customer's total purchases on each day\n"
      ]
    },
    {
      "cell_type": "markdown",
      "metadata": {
        "id": "Oxk5psRYtTmq"
      },
      "source": [
        "\n",
        "## Unique count variables\n",
        "\n",
        "Create a dataframe, `df_u` that represents each consumer's total number of transactions and unique products purchased.\n",
        "\n",
        "Hint: use a `groupby` + `.nunique()` statement. `df.groupby('id')[['var1', 'var2',....]].nunique().reset_index()` will compute the number of unique values of columns 'var1', 'var2',.... for each \"id\". You should calculate the number of unique `StockCode`'s (like SKU's) and `InvoicesNo`'s for each `CustomerID`. Change your column names in the resulting dataframe, `df_u`, to `['CustomerID', 'NProducts', 'NTrans']`."
      ]
    },
    {
      "cell_type": "code",
      "metadata": {
        "id": "iBChy9Wit6YH",
        "colab": {
          "base_uri": "https://localhost:8080/",
          "height": 423
        },
        "outputId": "18cbe8ea-5d9a-48c5-b742-01bcae69690e"
      },
      "source": [
        "# use a groupby operation with the nunique summary function to calculate the number of unique\n",
        "# product SKU's and transactions for each item\n",
        "# call the resulting dataframe df_u\n",
        "\n",
        "df_u=invoices.groupby('CustomerID')[['InvoiceNo', 'StockCode']].nunique().reset_index()\n",
        "df_u"
      ],
      "execution_count": 279,
      "outputs": [
        {
          "output_type": "execute_result",
          "data": {
            "text/html": [
              "<div>\n",
              "<style scoped>\n",
              "    .dataframe tbody tr th:only-of-type {\n",
              "        vertical-align: middle;\n",
              "    }\n",
              "\n",
              "    .dataframe tbody tr th {\n",
              "        vertical-align: top;\n",
              "    }\n",
              "\n",
              "    .dataframe thead th {\n",
              "        text-align: right;\n",
              "    }\n",
              "</style>\n",
              "<table border=\"1\" class=\"dataframe\">\n",
              "  <thead>\n",
              "    <tr style=\"text-align: right;\">\n",
              "      <th></th>\n",
              "      <th>CustomerID</th>\n",
              "      <th>InvoiceNo</th>\n",
              "      <th>StockCode</th>\n",
              "    </tr>\n",
              "  </thead>\n",
              "  <tbody>\n",
              "    <tr>\n",
              "      <th>0</th>\n",
              "      <td>12346.0</td>\n",
              "      <td>1</td>\n",
              "      <td>1</td>\n",
              "    </tr>\n",
              "    <tr>\n",
              "      <th>1</th>\n",
              "      <td>12347.0</td>\n",
              "      <td>7</td>\n",
              "      <td>103</td>\n",
              "    </tr>\n",
              "    <tr>\n",
              "      <th>2</th>\n",
              "      <td>12348.0</td>\n",
              "      <td>4</td>\n",
              "      <td>21</td>\n",
              "    </tr>\n",
              "    <tr>\n",
              "      <th>3</th>\n",
              "      <td>12349.0</td>\n",
              "      <td>1</td>\n",
              "      <td>72</td>\n",
              "    </tr>\n",
              "    <tr>\n",
              "      <th>4</th>\n",
              "      <td>12350.0</td>\n",
              "      <td>1</td>\n",
              "      <td>16</td>\n",
              "    </tr>\n",
              "    <tr>\n",
              "      <th>...</th>\n",
              "      <td>...</td>\n",
              "      <td>...</td>\n",
              "      <td>...</td>\n",
              "    </tr>\n",
              "    <tr>\n",
              "      <th>4329</th>\n",
              "      <td>18280.0</td>\n",
              "      <td>1</td>\n",
              "      <td>10</td>\n",
              "    </tr>\n",
              "    <tr>\n",
              "      <th>4330</th>\n",
              "      <td>18281.0</td>\n",
              "      <td>1</td>\n",
              "      <td>7</td>\n",
              "    </tr>\n",
              "    <tr>\n",
              "      <th>4331</th>\n",
              "      <td>18282.0</td>\n",
              "      <td>2</td>\n",
              "      <td>12</td>\n",
              "    </tr>\n",
              "    <tr>\n",
              "      <th>4332</th>\n",
              "      <td>18283.0</td>\n",
              "      <td>16</td>\n",
              "      <td>262</td>\n",
              "    </tr>\n",
              "    <tr>\n",
              "      <th>4333</th>\n",
              "      <td>18287.0</td>\n",
              "      <td>3</td>\n",
              "      <td>59</td>\n",
              "    </tr>\n",
              "  </tbody>\n",
              "</table>\n",
              "<p>4334 rows × 3 columns</p>\n",
              "</div>"
            ],
            "text/plain": [
              "      CustomerID  InvoiceNo  StockCode\n",
              "0        12346.0          1          1\n",
              "1        12347.0          7        103\n",
              "2        12348.0          4         21\n",
              "3        12349.0          1         72\n",
              "4        12350.0          1         16\n",
              "...          ...        ...        ...\n",
              "4329     18280.0          1         10\n",
              "4330     18281.0          1          7\n",
              "4331     18282.0          2         12\n",
              "4332     18283.0         16        262\n",
              "4333     18287.0          3         59\n",
              "\n",
              "[4334 rows x 3 columns]"
            ]
          },
          "metadata": {},
          "execution_count": 279
        }
      ]
    },
    {
      "cell_type": "code",
      "metadata": {
        "id": "lU8oH59PC_n6"
      },
      "source": [
        "# rename the columns for unique transactions and products purchased to:\n",
        "# NTrans and NProducts, respectively \n",
        "# Remember, you can either use the syntax dataframe.columns = ['col1', 'col2',....] <- set all the column names using list of strings for each column\n",
        "# or you can use dataframe.rename(columns = {'oldcolname':'newcolname', 'oldcolname2':'newcolname2', ....}, inplace = True) <- rename only the ones that should be renamed\n",
        "df_u.rename(columns = {'InvoiceNo':'NTrans', 'StockCode':'NProducts'}, inplace = True)\n",
        " "
      ],
      "execution_count": 280,
      "outputs": []
    },
    {
      "cell_type": "code",
      "metadata": {
        "id": "GyMvxP5qMTk-",
        "colab": {
          "base_uri": "https://localhost:8080/",
          "height": 206
        },
        "outputId": "4927a098-4ca6-4841-9995-f66ae99e72a1"
      },
      "source": [
        "# take a look at the first 5 rows of resulting dataframe, make sure contents are what you expect\n",
        "df_u.head()\n"
      ],
      "execution_count": 281,
      "outputs": [
        {
          "output_type": "execute_result",
          "data": {
            "text/html": [
              "<div>\n",
              "<style scoped>\n",
              "    .dataframe tbody tr th:only-of-type {\n",
              "        vertical-align: middle;\n",
              "    }\n",
              "\n",
              "    .dataframe tbody tr th {\n",
              "        vertical-align: top;\n",
              "    }\n",
              "\n",
              "    .dataframe thead th {\n",
              "        text-align: right;\n",
              "    }\n",
              "</style>\n",
              "<table border=\"1\" class=\"dataframe\">\n",
              "  <thead>\n",
              "    <tr style=\"text-align: right;\">\n",
              "      <th></th>\n",
              "      <th>CustomerID</th>\n",
              "      <th>NTrans</th>\n",
              "      <th>NProducts</th>\n",
              "    </tr>\n",
              "  </thead>\n",
              "  <tbody>\n",
              "    <tr>\n",
              "      <th>0</th>\n",
              "      <td>12346.0</td>\n",
              "      <td>1</td>\n",
              "      <td>1</td>\n",
              "    </tr>\n",
              "    <tr>\n",
              "      <th>1</th>\n",
              "      <td>12347.0</td>\n",
              "      <td>7</td>\n",
              "      <td>103</td>\n",
              "    </tr>\n",
              "    <tr>\n",
              "      <th>2</th>\n",
              "      <td>12348.0</td>\n",
              "      <td>4</td>\n",
              "      <td>21</td>\n",
              "    </tr>\n",
              "    <tr>\n",
              "      <th>3</th>\n",
              "      <td>12349.0</td>\n",
              "      <td>1</td>\n",
              "      <td>72</td>\n",
              "    </tr>\n",
              "    <tr>\n",
              "      <th>4</th>\n",
              "      <td>12350.0</td>\n",
              "      <td>1</td>\n",
              "      <td>16</td>\n",
              "    </tr>\n",
              "  </tbody>\n",
              "</table>\n",
              "</div>"
            ],
            "text/plain": [
              "   CustomerID  NTrans  NProducts\n",
              "0     12346.0       1          1\n",
              "1     12347.0       7        103\n",
              "2     12348.0       4         21\n",
              "3     12349.0       1         72\n",
              "4     12350.0       1         16"
            ]
          },
          "metadata": {},
          "execution_count": 281
        }
      ]
    },
    {
      "cell_type": "markdown",
      "metadata": {
        "id": "YLPqoJNPJCNE"
      },
      "source": [
        "\n",
        "## Customer spend\n",
        "\n",
        "Compute the total customer spending and number of units purchased for each customer of this retailer. \n",
        "\n",
        "Hint\n",
        "1. Create a column for `TotalSpend` (unit price x quantity)\n",
        "1. Use a (groupby + sum) to create a dataframe `df_s` that contains each customer's sum of `TotalSpend` and `Quantity`\n",
        "1. rename the quantity column to `TotalUnits`\n"
      ]
    },
    {
      "cell_type": "code",
      "metadata": {
        "id": "edY2KenyJGp4",
        "colab": {
          "base_uri": "https://localhost:8080/",
          "height": 423
        },
        "outputId": "7e5f87ff-8e0e-4e50-b7fc-1eaf6759de17"
      },
      "source": [
        "# create total spend column\n",
        "invoices['totalspend'] = invoices.UnitPrice * invoices.Quantity\n",
        "invoices"
      ],
      "execution_count": 282,
      "outputs": [
        {
          "output_type": "execute_result",
          "data": {
            "text/html": [
              "<div>\n",
              "<style scoped>\n",
              "    .dataframe tbody tr th:only-of-type {\n",
              "        vertical-align: middle;\n",
              "    }\n",
              "\n",
              "    .dataframe tbody tr th {\n",
              "        vertical-align: top;\n",
              "    }\n",
              "\n",
              "    .dataframe thead th {\n",
              "        text-align: right;\n",
              "    }\n",
              "</style>\n",
              "<table border=\"1\" class=\"dataframe\">\n",
              "  <thead>\n",
              "    <tr style=\"text-align: right;\">\n",
              "      <th></th>\n",
              "      <th>InvoiceNo</th>\n",
              "      <th>StockCode</th>\n",
              "      <th>Description</th>\n",
              "      <th>Quantity</th>\n",
              "      <th>InvoiceDate</th>\n",
              "      <th>UnitPrice</th>\n",
              "      <th>CustomerID</th>\n",
              "      <th>Country</th>\n",
              "      <th>totalspend</th>\n",
              "    </tr>\n",
              "  </thead>\n",
              "  <tbody>\n",
              "    <tr>\n",
              "      <th>0</th>\n",
              "      <td>536365</td>\n",
              "      <td>85123A</td>\n",
              "      <td>WHITE HANGING HEART T-LIGHT HOLDER</td>\n",
              "      <td>6</td>\n",
              "      <td>12/1/2010 8:26</td>\n",
              "      <td>2.55</td>\n",
              "      <td>17850.0</td>\n",
              "      <td>United Kingdom</td>\n",
              "      <td>15.30</td>\n",
              "    </tr>\n",
              "    <tr>\n",
              "      <th>1</th>\n",
              "      <td>536365</td>\n",
              "      <td>71053</td>\n",
              "      <td>WHITE METAL LANTERN</td>\n",
              "      <td>6</td>\n",
              "      <td>12/1/2010 8:26</td>\n",
              "      <td>3.39</td>\n",
              "      <td>17850.0</td>\n",
              "      <td>United Kingdom</td>\n",
              "      <td>20.34</td>\n",
              "    </tr>\n",
              "    <tr>\n",
              "      <th>2</th>\n",
              "      <td>536365</td>\n",
              "      <td>84406B</td>\n",
              "      <td>CREAM CUPID HEARTS COAT HANGER</td>\n",
              "      <td>8</td>\n",
              "      <td>12/1/2010 8:26</td>\n",
              "      <td>2.75</td>\n",
              "      <td>17850.0</td>\n",
              "      <td>United Kingdom</td>\n",
              "      <td>22.00</td>\n",
              "    </tr>\n",
              "    <tr>\n",
              "      <th>3</th>\n",
              "      <td>536365</td>\n",
              "      <td>84029G</td>\n",
              "      <td>KNITTED UNION FLAG HOT WATER BOTTLE</td>\n",
              "      <td>6</td>\n",
              "      <td>12/1/2010 8:26</td>\n",
              "      <td>3.39</td>\n",
              "      <td>17850.0</td>\n",
              "      <td>United Kingdom</td>\n",
              "      <td>20.34</td>\n",
              "    </tr>\n",
              "    <tr>\n",
              "      <th>4</th>\n",
              "      <td>536365</td>\n",
              "      <td>84029E</td>\n",
              "      <td>RED WOOLLY HOTTIE WHITE HEART.</td>\n",
              "      <td>6</td>\n",
              "      <td>12/1/2010 8:26</td>\n",
              "      <td>3.39</td>\n",
              "      <td>17850.0</td>\n",
              "      <td>United Kingdom</td>\n",
              "      <td>20.34</td>\n",
              "    </tr>\n",
              "    <tr>\n",
              "      <th>...</th>\n",
              "      <td>...</td>\n",
              "      <td>...</td>\n",
              "      <td>...</td>\n",
              "      <td>...</td>\n",
              "      <td>...</td>\n",
              "      <td>...</td>\n",
              "      <td>...</td>\n",
              "      <td>...</td>\n",
              "      <td>...</td>\n",
              "    </tr>\n",
              "    <tr>\n",
              "      <th>541904</th>\n",
              "      <td>581587</td>\n",
              "      <td>22613</td>\n",
              "      <td>PACK OF 20 SPACEBOY NAPKINS</td>\n",
              "      <td>12</td>\n",
              "      <td>12/9/2011 12:50</td>\n",
              "      <td>0.85</td>\n",
              "      <td>12680.0</td>\n",
              "      <td>France</td>\n",
              "      <td>10.20</td>\n",
              "    </tr>\n",
              "    <tr>\n",
              "      <th>541905</th>\n",
              "      <td>581587</td>\n",
              "      <td>22899</td>\n",
              "      <td>CHILDREN'S APRON DOLLY GIRL</td>\n",
              "      <td>6</td>\n",
              "      <td>12/9/2011 12:50</td>\n",
              "      <td>2.10</td>\n",
              "      <td>12680.0</td>\n",
              "      <td>France</td>\n",
              "      <td>12.60</td>\n",
              "    </tr>\n",
              "    <tr>\n",
              "      <th>541906</th>\n",
              "      <td>581587</td>\n",
              "      <td>23254</td>\n",
              "      <td>CHILDRENS CUTLERY DOLLY GIRL</td>\n",
              "      <td>4</td>\n",
              "      <td>12/9/2011 12:50</td>\n",
              "      <td>4.15</td>\n",
              "      <td>12680.0</td>\n",
              "      <td>France</td>\n",
              "      <td>16.60</td>\n",
              "    </tr>\n",
              "    <tr>\n",
              "      <th>541907</th>\n",
              "      <td>581587</td>\n",
              "      <td>23255</td>\n",
              "      <td>CHILDRENS CUTLERY CIRCUS PARADE</td>\n",
              "      <td>4</td>\n",
              "      <td>12/9/2011 12:50</td>\n",
              "      <td>4.15</td>\n",
              "      <td>12680.0</td>\n",
              "      <td>France</td>\n",
              "      <td>16.60</td>\n",
              "    </tr>\n",
              "    <tr>\n",
              "      <th>541908</th>\n",
              "      <td>581587</td>\n",
              "      <td>22138</td>\n",
              "      <td>BAKING SET 9 PIECE RETROSPOT</td>\n",
              "      <td>3</td>\n",
              "      <td>12/9/2011 12:50</td>\n",
              "      <td>4.95</td>\n",
              "      <td>12680.0</td>\n",
              "      <td>France</td>\n",
              "      <td>14.85</td>\n",
              "    </tr>\n",
              "  </tbody>\n",
              "</table>\n",
              "<p>396337 rows × 9 columns</p>\n",
              "</div>"
            ],
            "text/plain": [
              "        InvoiceNo StockCode  ...         Country  totalspend\n",
              "0          536365    85123A  ...  United Kingdom       15.30\n",
              "1          536365     71053  ...  United Kingdom       20.34\n",
              "2          536365    84406B  ...  United Kingdom       22.00\n",
              "3          536365    84029G  ...  United Kingdom       20.34\n",
              "4          536365    84029E  ...  United Kingdom       20.34\n",
              "...           ...       ...  ...             ...         ...\n",
              "541904     581587     22613  ...          France       10.20\n",
              "541905     581587     22899  ...          France       12.60\n",
              "541906     581587     23254  ...          France       16.60\n",
              "541907     581587     23255  ...          France       16.60\n",
              "541908     581587     22138  ...          France       14.85\n",
              "\n",
              "[396337 rows x 9 columns]"
            ]
          },
          "metadata": {},
          "execution_count": 282
        }
      ]
    },
    {
      "cell_type": "code",
      "metadata": {
        "id": "wLl_CD_0MFHZ",
        "colab": {
          "base_uri": "https://localhost:8080/",
          "height": 206
        },
        "outputId": "6ad46388-b8e2-4601-8dc2-71aabf49a769"
      },
      "source": [
        "# create dataframe, df_s, that contains the total spend and quantity for each customer using groupby statement\n",
        "# remember to reset_index \n",
        "invoices.groupby('CustomerID')[['totalspend','Quantity']].sum().reset_index()\n",
        "df_s=invoices.groupby('CustomerID')[['totalspend','Quantity']].nunique().reset_index()\n",
        "df_s.head()\n",
        "\n"
      ],
      "execution_count": 283,
      "outputs": [
        {
          "output_type": "execute_result",
          "data": {
            "text/html": [
              "<div>\n",
              "<style scoped>\n",
              "    .dataframe tbody tr th:only-of-type {\n",
              "        vertical-align: middle;\n",
              "    }\n",
              "\n",
              "    .dataframe tbody tr th {\n",
              "        vertical-align: top;\n",
              "    }\n",
              "\n",
              "    .dataframe thead th {\n",
              "        text-align: right;\n",
              "    }\n",
              "</style>\n",
              "<table border=\"1\" class=\"dataframe\">\n",
              "  <thead>\n",
              "    <tr style=\"text-align: right;\">\n",
              "      <th></th>\n",
              "      <th>CustomerID</th>\n",
              "      <th>totalspend</th>\n",
              "      <th>Quantity</th>\n",
              "    </tr>\n",
              "  </thead>\n",
              "  <tbody>\n",
              "    <tr>\n",
              "      <th>0</th>\n",
              "      <td>12346.0</td>\n",
              "      <td>1</td>\n",
              "      <td>1</td>\n",
              "    </tr>\n",
              "    <tr>\n",
              "      <th>1</th>\n",
              "      <td>12347.0</td>\n",
              "      <td>56</td>\n",
              "      <td>15</td>\n",
              "    </tr>\n",
              "    <tr>\n",
              "      <th>2</th>\n",
              "      <td>12348.0</td>\n",
              "      <td>14</td>\n",
              "      <td>8</td>\n",
              "    </tr>\n",
              "    <tr>\n",
              "      <th>3</th>\n",
              "      <td>12349.0</td>\n",
              "      <td>41</td>\n",
              "      <td>12</td>\n",
              "    </tr>\n",
              "    <tr>\n",
              "      <th>4</th>\n",
              "      <td>12350.0</td>\n",
              "      <td>8</td>\n",
              "      <td>4</td>\n",
              "    </tr>\n",
              "  </tbody>\n",
              "</table>\n",
              "</div>"
            ],
            "text/plain": [
              "   CustomerID  totalspend  Quantity\n",
              "0     12346.0           1         1\n",
              "1     12347.0          56        15\n",
              "2     12348.0          14         8\n",
              "3     12349.0          41        12\n",
              "4     12350.0           8         4"
            ]
          },
          "metadata": {},
          "execution_count": 283
        }
      ]
    },
    {
      "cell_type": "code",
      "metadata": {
        "id": "oKLd7Pc0PVso"
      },
      "source": [
        "# rename columns so that resulting dataframe has columns: CustomerID, TotalSpend, and TotalUnits\n",
        "df_s.columns=['CustomerID','totalspend','TotalUnits']"
      ],
      "execution_count": 284,
      "outputs": []
    },
    {
      "cell_type": "code",
      "metadata": {
        "id": "mW2xFRfCMabu",
        "colab": {
          "base_uri": "https://localhost:8080/",
          "height": 206
        },
        "outputId": "cd4dff99-7b6d-4ce9-c182-dafe62359de2"
      },
      "source": [
        "# take a look at the first 5 rows of resulting dataframe, make sure contents are what you expect\n",
        "\n",
        "df_s.head()"
      ],
      "execution_count": 285,
      "outputs": [
        {
          "output_type": "execute_result",
          "data": {
            "text/html": [
              "<div>\n",
              "<style scoped>\n",
              "    .dataframe tbody tr th:only-of-type {\n",
              "        vertical-align: middle;\n",
              "    }\n",
              "\n",
              "    .dataframe tbody tr th {\n",
              "        vertical-align: top;\n",
              "    }\n",
              "\n",
              "    .dataframe thead th {\n",
              "        text-align: right;\n",
              "    }\n",
              "</style>\n",
              "<table border=\"1\" class=\"dataframe\">\n",
              "  <thead>\n",
              "    <tr style=\"text-align: right;\">\n",
              "      <th></th>\n",
              "      <th>CustomerID</th>\n",
              "      <th>totalspend</th>\n",
              "      <th>TotalUnits</th>\n",
              "    </tr>\n",
              "  </thead>\n",
              "  <tbody>\n",
              "    <tr>\n",
              "      <th>0</th>\n",
              "      <td>12346.0</td>\n",
              "      <td>1</td>\n",
              "      <td>1</td>\n",
              "    </tr>\n",
              "    <tr>\n",
              "      <th>1</th>\n",
              "      <td>12347.0</td>\n",
              "      <td>56</td>\n",
              "      <td>15</td>\n",
              "    </tr>\n",
              "    <tr>\n",
              "      <th>2</th>\n",
              "      <td>12348.0</td>\n",
              "      <td>14</td>\n",
              "      <td>8</td>\n",
              "    </tr>\n",
              "    <tr>\n",
              "      <th>3</th>\n",
              "      <td>12349.0</td>\n",
              "      <td>41</td>\n",
              "      <td>12</td>\n",
              "    </tr>\n",
              "    <tr>\n",
              "      <th>4</th>\n",
              "      <td>12350.0</td>\n",
              "      <td>8</td>\n",
              "      <td>4</td>\n",
              "    </tr>\n",
              "  </tbody>\n",
              "</table>\n",
              "</div>"
            ],
            "text/plain": [
              "   CustomerID  totalspend  TotalUnits\n",
              "0     12346.0           1           1\n",
              "1     12347.0          56          15\n",
              "2     12348.0          14           8\n",
              "3     12349.0          41          12\n",
              "4     12350.0           8           4"
            ]
          },
          "metadata": {},
          "execution_count": 285
        }
      ]
    },
    {
      "cell_type": "markdown",
      "metadata": {
        "id": "8LWkk_qSOrs8"
      },
      "source": [
        "\n",
        "## Compute price of average SKU purchased\n",
        "\n",
        "Compute and create the `AveragePrice` column using the `df_s` dataframe's `TotalUnits` and `TotalSpend`.\n"
      ]
    },
    {
      "cell_type": "code",
      "metadata": {
        "id": "KJ2CXoeoPGaA"
      },
      "source": [
        "# create average price column in df_s\n",
        "\n",
        "df_s['AveragePrice']=df_s.totalspend/df_s.TotalUnits"
      ],
      "execution_count": 286,
      "outputs": []
    },
    {
      "cell_type": "code",
      "metadata": {
        "id": "d8cqACS8Osz7",
        "colab": {
          "base_uri": "https://localhost:8080/",
          "height": 423
        },
        "outputId": "8b1bfa54-0ec4-4fe2-d3cd-4ed90e5d22a8"
      },
      "source": [
        "# preview df_s to make sure average price is as expected\n",
        "\n",
        "df_s"
      ],
      "execution_count": 287,
      "outputs": [
        {
          "output_type": "execute_result",
          "data": {
            "text/html": [
              "<div>\n",
              "<style scoped>\n",
              "    .dataframe tbody tr th:only-of-type {\n",
              "        vertical-align: middle;\n",
              "    }\n",
              "\n",
              "    .dataframe tbody tr th {\n",
              "        vertical-align: top;\n",
              "    }\n",
              "\n",
              "    .dataframe thead th {\n",
              "        text-align: right;\n",
              "    }\n",
              "</style>\n",
              "<table border=\"1\" class=\"dataframe\">\n",
              "  <thead>\n",
              "    <tr style=\"text-align: right;\">\n",
              "      <th></th>\n",
              "      <th>CustomerID</th>\n",
              "      <th>totalspend</th>\n",
              "      <th>TotalUnits</th>\n",
              "      <th>AveragePrice</th>\n",
              "    </tr>\n",
              "  </thead>\n",
              "  <tbody>\n",
              "    <tr>\n",
              "      <th>0</th>\n",
              "      <td>12346.0</td>\n",
              "      <td>1</td>\n",
              "      <td>1</td>\n",
              "      <td>1.000000</td>\n",
              "    </tr>\n",
              "    <tr>\n",
              "      <th>1</th>\n",
              "      <td>12347.0</td>\n",
              "      <td>56</td>\n",
              "      <td>15</td>\n",
              "      <td>3.733333</td>\n",
              "    </tr>\n",
              "    <tr>\n",
              "      <th>2</th>\n",
              "      <td>12348.0</td>\n",
              "      <td>14</td>\n",
              "      <td>8</td>\n",
              "      <td>1.750000</td>\n",
              "    </tr>\n",
              "    <tr>\n",
              "      <th>3</th>\n",
              "      <td>12349.0</td>\n",
              "      <td>41</td>\n",
              "      <td>12</td>\n",
              "      <td>3.416667</td>\n",
              "    </tr>\n",
              "    <tr>\n",
              "      <th>4</th>\n",
              "      <td>12350.0</td>\n",
              "      <td>8</td>\n",
              "      <td>4</td>\n",
              "      <td>2.000000</td>\n",
              "    </tr>\n",
              "    <tr>\n",
              "      <th>...</th>\n",
              "      <td>...</td>\n",
              "      <td>...</td>\n",
              "      <td>...</td>\n",
              "      <td>...</td>\n",
              "    </tr>\n",
              "    <tr>\n",
              "      <th>4329</th>\n",
              "      <td>18280.0</td>\n",
              "      <td>8</td>\n",
              "      <td>5</td>\n",
              "      <td>1.600000</td>\n",
              "    </tr>\n",
              "    <tr>\n",
              "      <th>4330</th>\n",
              "      <td>18281.0</td>\n",
              "      <td>4</td>\n",
              "      <td>4</td>\n",
              "      <td>1.000000</td>\n",
              "    </tr>\n",
              "    <tr>\n",
              "      <th>4331</th>\n",
              "      <td>18282.0</td>\n",
              "      <td>10</td>\n",
              "      <td>8</td>\n",
              "      <td>1.250000</td>\n",
              "    </tr>\n",
              "    <tr>\n",
              "      <th>4332</th>\n",
              "      <td>18283.0</td>\n",
              "      <td>76</td>\n",
              "      <td>10</td>\n",
              "      <td>7.600000</td>\n",
              "    </tr>\n",
              "    <tr>\n",
              "      <th>4333</th>\n",
              "      <td>18287.0</td>\n",
              "      <td>34</td>\n",
              "      <td>10</td>\n",
              "      <td>3.400000</td>\n",
              "    </tr>\n",
              "  </tbody>\n",
              "</table>\n",
              "<p>4334 rows × 4 columns</p>\n",
              "</div>"
            ],
            "text/plain": [
              "      CustomerID  totalspend  TotalUnits  AveragePrice\n",
              "0        12346.0           1           1      1.000000\n",
              "1        12347.0          56          15      3.733333\n",
              "2        12348.0          14           8      1.750000\n",
              "3        12349.0          41          12      3.416667\n",
              "4        12350.0           8           4      2.000000\n",
              "...          ...         ...         ...           ...\n",
              "4329     18280.0           8           5      1.600000\n",
              "4330     18281.0           4           4      1.000000\n",
              "4331     18282.0          10           8      1.250000\n",
              "4332     18283.0          76          10      7.600000\n",
              "4333     18287.0          34          10      3.400000\n",
              "\n",
              "[4334 rows x 4 columns]"
            ]
          },
          "metadata": {},
          "execution_count": 287
        }
      ]
    },
    {
      "cell_type": "markdown",
      "metadata": {
        "id": "25EWNNZV9Wxj"
      },
      "source": [
        "\n",
        "## Merge `df_u` and `df_s`, call new dataframe df_c (c for \"consumer\")\n",
        "\n",
        "Using the variables in `df_c`, compute the following additional column:\n",
        "1. Spend per transaction (call it \"SpendPerTrans\")\n",
        "\n",
        "In total, you should have `df_c` with columns `['CustomerID', 'NTrans', 'NProducts', 'TotalSpend', 'AveragePrice', 'SpendPerTrans']`\n"
      ]
    },
    {
      "cell_type": "markdown",
      "metadata": {
        "id": "T3ar9ARRWWC6"
      },
      "source": [
        "**Answer this**\n",
        "\n",
        "On what column should you merge `df_s` and `df_u`?\n",
        "\n",
        "* Answer: ________customerid_____________"
      ]
    },
    {
      "cell_type": "code",
      "metadata": {
        "id": "XsPDlZAsQMSf",
        "colab": {
          "base_uri": "https://localhost:8080/",
          "height": 423
        },
        "outputId": "27e740c2-1b7f-4552-e67b-01da874e1d48"
      },
      "source": [
        "# do the merge (review notes from module 3 on merges if necessary)\n",
        "# use an outer merge, call resulting dataframe, df_c\n",
        "df_c =df_s.merge(df_u, how = 'outer', on = 'CustomerID')\n",
        "df_c\n",
        "\n",
        "\n"
      ],
      "execution_count": 288,
      "outputs": [
        {
          "output_type": "execute_result",
          "data": {
            "text/html": [
              "<div>\n",
              "<style scoped>\n",
              "    .dataframe tbody tr th:only-of-type {\n",
              "        vertical-align: middle;\n",
              "    }\n",
              "\n",
              "    .dataframe tbody tr th {\n",
              "        vertical-align: top;\n",
              "    }\n",
              "\n",
              "    .dataframe thead th {\n",
              "        text-align: right;\n",
              "    }\n",
              "</style>\n",
              "<table border=\"1\" class=\"dataframe\">\n",
              "  <thead>\n",
              "    <tr style=\"text-align: right;\">\n",
              "      <th></th>\n",
              "      <th>CustomerID</th>\n",
              "      <th>totalspend</th>\n",
              "      <th>TotalUnits</th>\n",
              "      <th>AveragePrice</th>\n",
              "      <th>NTrans</th>\n",
              "      <th>NProducts</th>\n",
              "    </tr>\n",
              "  </thead>\n",
              "  <tbody>\n",
              "    <tr>\n",
              "      <th>0</th>\n",
              "      <td>12346.0</td>\n",
              "      <td>1</td>\n",
              "      <td>1</td>\n",
              "      <td>1.000000</td>\n",
              "      <td>1</td>\n",
              "      <td>1</td>\n",
              "    </tr>\n",
              "    <tr>\n",
              "      <th>1</th>\n",
              "      <td>12347.0</td>\n",
              "      <td>56</td>\n",
              "      <td>15</td>\n",
              "      <td>3.733333</td>\n",
              "      <td>7</td>\n",
              "      <td>103</td>\n",
              "    </tr>\n",
              "    <tr>\n",
              "      <th>2</th>\n",
              "      <td>12348.0</td>\n",
              "      <td>14</td>\n",
              "      <td>8</td>\n",
              "      <td>1.750000</td>\n",
              "      <td>4</td>\n",
              "      <td>21</td>\n",
              "    </tr>\n",
              "    <tr>\n",
              "      <th>3</th>\n",
              "      <td>12349.0</td>\n",
              "      <td>41</td>\n",
              "      <td>12</td>\n",
              "      <td>3.416667</td>\n",
              "      <td>1</td>\n",
              "      <td>72</td>\n",
              "    </tr>\n",
              "    <tr>\n",
              "      <th>4</th>\n",
              "      <td>12350.0</td>\n",
              "      <td>8</td>\n",
              "      <td>4</td>\n",
              "      <td>2.000000</td>\n",
              "      <td>1</td>\n",
              "      <td>16</td>\n",
              "    </tr>\n",
              "    <tr>\n",
              "      <th>...</th>\n",
              "      <td>...</td>\n",
              "      <td>...</td>\n",
              "      <td>...</td>\n",
              "      <td>...</td>\n",
              "      <td>...</td>\n",
              "      <td>...</td>\n",
              "    </tr>\n",
              "    <tr>\n",
              "      <th>4329</th>\n",
              "      <td>18280.0</td>\n",
              "      <td>8</td>\n",
              "      <td>5</td>\n",
              "      <td>1.600000</td>\n",
              "      <td>1</td>\n",
              "      <td>10</td>\n",
              "    </tr>\n",
              "    <tr>\n",
              "      <th>4330</th>\n",
              "      <td>18281.0</td>\n",
              "      <td>4</td>\n",
              "      <td>4</td>\n",
              "      <td>1.000000</td>\n",
              "      <td>1</td>\n",
              "      <td>7</td>\n",
              "    </tr>\n",
              "    <tr>\n",
              "      <th>4331</th>\n",
              "      <td>18282.0</td>\n",
              "      <td>10</td>\n",
              "      <td>8</td>\n",
              "      <td>1.250000</td>\n",
              "      <td>2</td>\n",
              "      <td>12</td>\n",
              "    </tr>\n",
              "    <tr>\n",
              "      <th>4332</th>\n",
              "      <td>18283.0</td>\n",
              "      <td>76</td>\n",
              "      <td>10</td>\n",
              "      <td>7.600000</td>\n",
              "      <td>16</td>\n",
              "      <td>262</td>\n",
              "    </tr>\n",
              "    <tr>\n",
              "      <th>4333</th>\n",
              "      <td>18287.0</td>\n",
              "      <td>34</td>\n",
              "      <td>10</td>\n",
              "      <td>3.400000</td>\n",
              "      <td>3</td>\n",
              "      <td>59</td>\n",
              "    </tr>\n",
              "  </tbody>\n",
              "</table>\n",
              "<p>4334 rows × 6 columns</p>\n",
              "</div>"
            ],
            "text/plain": [
              "      CustomerID  totalspend  TotalUnits  AveragePrice  NTrans  NProducts\n",
              "0        12346.0           1           1      1.000000       1          1\n",
              "1        12347.0          56          15      3.733333       7        103\n",
              "2        12348.0          14           8      1.750000       4         21\n",
              "3        12349.0          41          12      3.416667       1         72\n",
              "4        12350.0           8           4      2.000000       1         16\n",
              "...          ...         ...         ...           ...     ...        ...\n",
              "4329     18280.0           8           5      1.600000       1         10\n",
              "4330     18281.0           4           4      1.000000       1          7\n",
              "4331     18282.0          10           8      1.250000       2         12\n",
              "4332     18283.0          76          10      7.600000      16        262\n",
              "4333     18287.0          34          10      3.400000       3         59\n",
              "\n",
              "[4334 rows x 6 columns]"
            ]
          },
          "metadata": {},
          "execution_count": 288
        }
      ]
    },
    {
      "cell_type": "code",
      "metadata": {
        "id": "EDIpKkWeHCFd"
      },
      "source": [
        "# create the column 'SpendPerTrans'\n",
        "df_c['SpendPerTrans']=df_c.totalspend/df_c.NTrans\n",
        "\n"
      ],
      "execution_count": 289,
      "outputs": []
    },
    {
      "cell_type": "code",
      "metadata": {
        "id": "9Mm2LDzNYj_S",
        "colab": {
          "base_uri": "https://localhost:8080/",
          "height": 423
        },
        "outputId": "2278bac8-7097-4202-c03e-677928eddec2"
      },
      "source": [
        "# preview df_c to make sure it looks as expected\n",
        "\n",
        "df_c"
      ],
      "execution_count": 290,
      "outputs": [
        {
          "output_type": "execute_result",
          "data": {
            "text/html": [
              "<div>\n",
              "<style scoped>\n",
              "    .dataframe tbody tr th:only-of-type {\n",
              "        vertical-align: middle;\n",
              "    }\n",
              "\n",
              "    .dataframe tbody tr th {\n",
              "        vertical-align: top;\n",
              "    }\n",
              "\n",
              "    .dataframe thead th {\n",
              "        text-align: right;\n",
              "    }\n",
              "</style>\n",
              "<table border=\"1\" class=\"dataframe\">\n",
              "  <thead>\n",
              "    <tr style=\"text-align: right;\">\n",
              "      <th></th>\n",
              "      <th>CustomerID</th>\n",
              "      <th>totalspend</th>\n",
              "      <th>TotalUnits</th>\n",
              "      <th>AveragePrice</th>\n",
              "      <th>NTrans</th>\n",
              "      <th>NProducts</th>\n",
              "      <th>SpendPerTrans</th>\n",
              "    </tr>\n",
              "  </thead>\n",
              "  <tbody>\n",
              "    <tr>\n",
              "      <th>0</th>\n",
              "      <td>12346.0</td>\n",
              "      <td>1</td>\n",
              "      <td>1</td>\n",
              "      <td>1.000000</td>\n",
              "      <td>1</td>\n",
              "      <td>1</td>\n",
              "      <td>1.000000</td>\n",
              "    </tr>\n",
              "    <tr>\n",
              "      <th>1</th>\n",
              "      <td>12347.0</td>\n",
              "      <td>56</td>\n",
              "      <td>15</td>\n",
              "      <td>3.733333</td>\n",
              "      <td>7</td>\n",
              "      <td>103</td>\n",
              "      <td>8.000000</td>\n",
              "    </tr>\n",
              "    <tr>\n",
              "      <th>2</th>\n",
              "      <td>12348.0</td>\n",
              "      <td>14</td>\n",
              "      <td>8</td>\n",
              "      <td>1.750000</td>\n",
              "      <td>4</td>\n",
              "      <td>21</td>\n",
              "      <td>3.500000</td>\n",
              "    </tr>\n",
              "    <tr>\n",
              "      <th>3</th>\n",
              "      <td>12349.0</td>\n",
              "      <td>41</td>\n",
              "      <td>12</td>\n",
              "      <td>3.416667</td>\n",
              "      <td>1</td>\n",
              "      <td>72</td>\n",
              "      <td>41.000000</td>\n",
              "    </tr>\n",
              "    <tr>\n",
              "      <th>4</th>\n",
              "      <td>12350.0</td>\n",
              "      <td>8</td>\n",
              "      <td>4</td>\n",
              "      <td>2.000000</td>\n",
              "      <td>1</td>\n",
              "      <td>16</td>\n",
              "      <td>8.000000</td>\n",
              "    </tr>\n",
              "    <tr>\n",
              "      <th>...</th>\n",
              "      <td>...</td>\n",
              "      <td>...</td>\n",
              "      <td>...</td>\n",
              "      <td>...</td>\n",
              "      <td>...</td>\n",
              "      <td>...</td>\n",
              "      <td>...</td>\n",
              "    </tr>\n",
              "    <tr>\n",
              "      <th>4329</th>\n",
              "      <td>18280.0</td>\n",
              "      <td>8</td>\n",
              "      <td>5</td>\n",
              "      <td>1.600000</td>\n",
              "      <td>1</td>\n",
              "      <td>10</td>\n",
              "      <td>8.000000</td>\n",
              "    </tr>\n",
              "    <tr>\n",
              "      <th>4330</th>\n",
              "      <td>18281.0</td>\n",
              "      <td>4</td>\n",
              "      <td>4</td>\n",
              "      <td>1.000000</td>\n",
              "      <td>1</td>\n",
              "      <td>7</td>\n",
              "      <td>4.000000</td>\n",
              "    </tr>\n",
              "    <tr>\n",
              "      <th>4331</th>\n",
              "      <td>18282.0</td>\n",
              "      <td>10</td>\n",
              "      <td>8</td>\n",
              "      <td>1.250000</td>\n",
              "      <td>2</td>\n",
              "      <td>12</td>\n",
              "      <td>5.000000</td>\n",
              "    </tr>\n",
              "    <tr>\n",
              "      <th>4332</th>\n",
              "      <td>18283.0</td>\n",
              "      <td>76</td>\n",
              "      <td>10</td>\n",
              "      <td>7.600000</td>\n",
              "      <td>16</td>\n",
              "      <td>262</td>\n",
              "      <td>4.750000</td>\n",
              "    </tr>\n",
              "    <tr>\n",
              "      <th>4333</th>\n",
              "      <td>18287.0</td>\n",
              "      <td>34</td>\n",
              "      <td>10</td>\n",
              "      <td>3.400000</td>\n",
              "      <td>3</td>\n",
              "      <td>59</td>\n",
              "      <td>11.333333</td>\n",
              "    </tr>\n",
              "  </tbody>\n",
              "</table>\n",
              "<p>4334 rows × 7 columns</p>\n",
              "</div>"
            ],
            "text/plain": [
              "      CustomerID  totalspend  TotalUnits  ...  NTrans  NProducts  SpendPerTrans\n",
              "0        12346.0           1           1  ...       1          1       1.000000\n",
              "1        12347.0          56          15  ...       7        103       8.000000\n",
              "2        12348.0          14           8  ...       4         21       3.500000\n",
              "3        12349.0          41          12  ...       1         72      41.000000\n",
              "4        12350.0           8           4  ...       1         16       8.000000\n",
              "...          ...         ...         ...  ...     ...        ...            ...\n",
              "4329     18280.0           8           5  ...       1         10       8.000000\n",
              "4330     18281.0           4           4  ...       1          7       4.000000\n",
              "4331     18282.0          10           8  ...       2         12       5.000000\n",
              "4332     18283.0          76          10  ...      16        262       4.750000\n",
              "4333     18287.0          34          10  ...       3         59      11.333333\n",
              "\n",
              "[4334 rows x 7 columns]"
            ]
          },
          "metadata": {},
          "execution_count": 290
        }
      ]
    },
    {
      "cell_type": "markdown",
      "metadata": {
        "id": "RRX-X9bugMkL"
      },
      "source": [
        "## Log transformation\n",
        "\n",
        "1. Plot the histogram of all the variables of df_c other than CustomerID\n",
        "1. Replace each of these variables with their respective log transformations\n",
        "1. Plot the histograms again, what's different?"
      ]
    },
    {
      "cell_type": "code",
      "metadata": {
        "id": "oJ_R1ic9eGbt",
        "colab": {
          "base_uri": "https://localhost:8080/",
          "height": 352
        },
        "outputId": "416a5aa3-4ad0-4222-c65f-114a2dae1e73"
      },
      "source": [
        "# plot the histogram of NTrans\n",
        "import os, pandas as pd, numpy as np, matplotlib.pyplot as plt\n",
        "plt.hist(df_c.NTrans)\n"
      ],
      "execution_count": 291,
      "outputs": [
        {
          "output_type": "execute_result",
          "data": {
            "text/plain": [
              "(array([4.25e+03, 6.20e+01, 1.40e+01, 1.00e+00, 4.00e+00, 0.00e+00,\n",
              "        1.00e+00, 0.00e+00, 0.00e+00, 2.00e+00]),\n",
              " array([  1. ,  21.5,  42. ,  62.5,  83. , 103.5, 124. , 144.5, 165. ,\n",
              "        185.5, 206. ]),\n",
              " <a list of 10 Patch objects>)"
            ]
          },
          "metadata": {},
          "execution_count": 291
        },
        {
          "output_type": "display_data",
          "data": {
            "image/png": "[encoded data removed]",
            "text/plain": [
              "<Figure size 432x288 with 1 Axes>"
            ]
          },
          "metadata": {
            "needs_background": "light"
          }
        }
      ]
    },
    {
      "cell_type": "code",
      "metadata": {
        "id": "M4LAnzFPePuP",
        "colab": {
          "base_uri": "https://localhost:8080/",
          "height": 369
        },
        "outputId": "1c5966d5-3923-4162-90a6-49db4d4a8cf0"
      },
      "source": [
        "# plot the histogram of NProducts\n",
        "plt.hist(df_c.NProducts)"
      ],
      "execution_count": 292,
      "outputs": [
        {
          "output_type": "execute_result",
          "data": {
            "text/plain": [
              "(array([4.063e+03, 2.280e+02, 2.900e+01, 7.000e+00, 3.000e+00, 0.000e+00,\n",
              "        1.000e+00, 1.000e+00, 0.000e+00, 2.000e+00]),\n",
              " array([1.0000e+00, 1.7940e+02, 3.5780e+02, 5.3620e+02, 7.1460e+02,\n",
              "        8.9300e+02, 1.0714e+03, 1.2498e+03, 1.4282e+03, 1.6066e+03,\n",
              "        1.7850e+03]),\n",
              " <a list of 10 Patch objects>)"
            ]
          },
          "metadata": {},
          "execution_count": 292
        },
        {
          "output_type": "display_data",
          "data": {
            "image/png": "[encoded data removed]",
            "text/plain": [
              "<Figure size 432x288 with 1 Axes>"
            ]
          },
          "metadata": {
            "needs_background": "light"
          }
        }
      ]
    },
    {
      "cell_type": "code",
      "metadata": {
        "id": "xP_mjM8xeTTf",
        "colab": {
          "base_uri": "https://localhost:8080/",
          "height": 352
        },
        "outputId": "78bf9b39-568d-4636-edf4-c6f62b6ba8f6"
      },
      "source": [
        "# plot the histogram of TotalSpend\n",
        "\n",
        "plt.hist(df_c.totalspend)"
      ],
      "execution_count": 293,
      "outputs": [
        {
          "output_type": "execute_result",
          "data": {
            "text/plain": [
              "(array([3.143e+03, 8.560e+02, 2.370e+02, 6.500e+01, 1.500e+01, 7.000e+00,\n",
              "        2.000e+00, 3.000e+00, 3.000e+00, 3.000e+00]),\n",
              " array([  1. ,  40.4,  79.8, 119.2, 158.6, 198. , 237.4, 276.8, 316.2,\n",
              "        355.6, 395. ]),\n",
              " <a list of 10 Patch objects>)"
            ]
          },
          "metadata": {},
          "execution_count": 293
        },
        {
          "output_type": "display_data",
          "data": {
            "image/png": "[encoded data removed]",
            "text/plain": [
              "<Figure size 432x288 with 1 Axes>"
            ]
          },
          "metadata": {
            "needs_background": "light"
          }
        }
      ]
    },
    {
      "cell_type": "code",
      "metadata": {
        "id": "CJ4esbsjeYrb",
        "colab": {
          "base_uri": "https://localhost:8080/",
          "height": 352
        },
        "outputId": "f001a46d-47a8-4264-e29d-8c4fd4ea10bb"
      },
      "source": [
        "# plot the histogram of TotalUnits\n",
        "plt.hist(df_c.TotalUnits)\n"
      ],
      "execution_count": 294,
      "outputs": [
        {
          "output_type": "execute_result",
          "data": {
            "text/plain": [
              "(array([2.990e+03, 1.193e+03, 1.170e+02, 1.600e+01, 1.100e+01, 5.000e+00,\n",
              "        0.000e+00, 1.000e+00, 0.000e+00, 1.000e+00]),\n",
              " array([  1. ,  11.1,  21.2,  31.3,  41.4,  51.5,  61.6,  71.7,  81.8,\n",
              "         91.9, 102. ]),\n",
              " <a list of 10 Patch objects>)"
            ]
          },
          "metadata": {},
          "execution_count": 294
        },
        {
          "output_type": "display_data",
          "data": {
            "image/png": "[encoded data removed]",
            "text/plain": [
              "<Figure size 432x288 with 1 Axes>"
            ]
          },
          "metadata": {
            "needs_background": "light"
          }
        }
      ]
    },
    {
      "cell_type": "code",
      "metadata": {
        "id": "IoIOTd6reJNp",
        "colab": {
          "base_uri": "https://localhost:8080/",
          "height": 369
        },
        "outputId": "134e726d-4616-4636-97fa-ec75e053dd50"
      },
      "source": [
        "# plot the histogram of AveragePrice\n",
        "plt.hist(df_c.AveragePrice)\n",
        "\n"
      ],
      "execution_count": 295,
      "outputs": [
        {
          "output_type": "execute_result",
          "data": {
            "text/plain": [
              "(array([1348., 1511.,  761.,  364.,  197.,  108.,   27.,   13.,    3.,\n",
              "           2.]),\n",
              " array([ 0.66666667,  1.9       ,  3.13333333,  4.36666667,  5.6       ,\n",
              "         6.83333333,  8.06666667,  9.3       , 10.53333333, 11.76666667,\n",
              "        13.        ]),\n",
              " <a list of 10 Patch objects>)"
            ]
          },
          "metadata": {},
          "execution_count": 295
        },
        {
          "output_type": "display_data",
          "data": {
            "image/png": "[encoded data removed]",
            "text/plain": [
              "<Figure size 432x288 with 1 Axes>"
            ]
          },
          "metadata": {
            "needs_background": "light"
          }
        }
      ]
    },
    {
      "cell_type": "code",
      "metadata": {
        "id": "X0NxCocCH3OO",
        "colab": {
          "base_uri": "https://localhost:8080/",
          "height": 369
        },
        "outputId": "16b8cbe9-7589-4b56-c2f9-4ecad66d1c89"
      },
      "source": [
        "# plot the histogram of SpendPerTrans\n",
        "plt.hist(df_c.SpendPerTrans)\n"
      ],
      "execution_count": 296,
      "outputs": [
        {
          "output_type": "execute_result",
          "data": {
            "text/plain": [
              "(array([2054., 1402.,  543.,  207.,   78.,   24.,   10.,    8.,    3.,\n",
              "           5.]),\n",
              " array([ 0.33333333,  8.1       , 15.86666667, 23.63333333, 31.4       ,\n",
              "        39.16666667, 46.93333333, 54.7       , 62.46666667, 70.23333333,\n",
              "        78.        ]),\n",
              " <a list of 10 Patch objects>)"
            ]
          },
          "metadata": {},
          "execution_count": 296
        },
        {
          "output_type": "display_data",
          "data": {
            "image/png": "[encoded data removed]",
            "text/plain": [
              "<Figure size 432x288 with 1 Axes>"
            ]
          },
          "metadata": {
            "needs_background": "light"
          }
        }
      ]
    },
    {
      "cell_type": "code",
      "metadata": {
        "id": "Y4952ErQe1Mb"
      },
      "source": [
        "# Write a loop through all variables of df_c other than CustomerID \n",
        "# to replace each column with its log.\n",
        "# You can start the loop using: for c in df_c.columns[1:]:\n",
        "# (since df_c.columns[0] is the CustomerID column).\n",
        "# For some column, c, you can replace the column with its log using:\n",
        "# dataframe[c] = np.log(dataframe[c]) \n",
        "# (of course, use the right variable name for your dataframe)\n",
        "for c in df_c.columns[1:]:\n",
        "  df_c[c]=np.log(df_c[c])\n"
      ],
      "execution_count": 297,
      "outputs": []
    },
    {
      "cell_type": "code",
      "metadata": {
        "id": "5zFUPsE3fbeF",
        "colab": {
          "base_uri": "https://localhost:8080/",
          "height": 369
        },
        "outputId": "2d43bdfe-6aa6-44c8-b973-df4e26de745c"
      },
      "source": [
        "# plot the histogram of NTrans (after taking the log in cell above)\n",
        "plt.hist(df_c.NTrans)\n"
      ],
      "execution_count": 298,
      "outputs": [
        {
          "output_type": "execute_result",
          "data": {
            "text/plain": [
              "(array([1505.,  831.,  897.,  646.,  269.,  115.,   49.,   14.,    5.,\n",
              "           3.]),\n",
              " array([0.        , 0.53278762, 1.06557523, 1.59836285, 2.13115047,\n",
              "        2.66393808, 3.1967257 , 3.72951332, 4.26230094, 4.79508855,\n",
              "        5.32787617]),\n",
              " <a list of 10 Patch objects>)"
            ]
          },
          "metadata": {},
          "execution_count": 298
        },
        {
          "output_type": "display_data",
          "data": {
            "image/png": "[encoded data removed]",
            "text/plain": [
              "<Figure size 432x288 with 1 Axes>"
            ]
          },
          "metadata": {
            "needs_background": "light"
          }
        }
      ]
    },
    {
      "cell_type": "code",
      "metadata": {
        "id": "IYmRVNPIf0DC",
        "colab": {
          "base_uri": "https://localhost:8080/",
          "height": 369
        },
        "outputId": "4edad3dd-aea6-4ebb-97d4-0002aa741179"
      },
      "source": [
        "# plot the histogram of NProducts \n",
        "plt.hist(df_c.NProducts)\n"
      ],
      "execution_count": 299,
      "outputs": [
        {
          "output_type": "execute_result",
          "data": {
            "text/plain": [
              "(array([ 145.,  113.,  377.,  694., 1100.,  998.,  658.,  218.,   26.,\n",
              "           5.]),\n",
              " array([0.        , 0.74871737, 1.49743474, 2.24615211, 2.99486948,\n",
              "        3.74358685, 4.49230422, 5.24102159, 5.98973896, 6.73845632,\n",
              "        7.48717369]),\n",
              " <a list of 10 Patch objects>)"
            ]
          },
          "metadata": {},
          "execution_count": 299
        },
        {
          "output_type": "display_data",
          "data": {
            "image/png": "[encoded data removed]",
            "text/plain": [
              "<Figure size 432x288 with 1 Axes>"
            ]
          },
          "metadata": {
            "needs_background": "light"
          }
        }
      ]
    },
    {
      "cell_type": "code",
      "metadata": {
        "id": "tE75Sq7if3Np",
        "colab": {
          "base_uri": "https://localhost:8080/",
          "height": 369
        },
        "outputId": "39d867be-94d1-4d88-b95e-b377723ddda8"
      },
      "source": [
        "# plot the histogram of TotalSpend \n",
        "plt.hist(df_c.totalspend)"
      ],
      "execution_count": 300,
      "outputs": [
        {
          "output_type": "execute_result",
          "data": {
            "text/plain": [
              "(array([  91.,  155.,  305.,  463.,  861., 1098.,  853.,  410.,   85.,\n",
              "          13.]),\n",
              " array([0.        , 0.59788858, 1.19577715, 1.79366573, 2.39155431,\n",
              "        2.98944288, 3.58733146, 4.18522004, 4.78310861, 5.38099719,\n",
              "        5.97888576]),\n",
              " <a list of 10 Patch objects>)"
            ]
          },
          "metadata": {},
          "execution_count": 300
        },
        {
          "output_type": "display_data",
          "data": {
            "image/png": "[encoded data removed]",
            "text/plain": [
              "<Figure size 432x288 with 1 Axes>"
            ]
          },
          "metadata": {
            "needs_background": "light"
          }
        }
      ]
    },
    {
      "cell_type": "code",
      "metadata": {
        "id": "482290ggf7q5",
        "colab": {
          "base_uri": "https://localhost:8080/",
          "height": 369
        },
        "outputId": "ba2d7989-5fbf-4808-94a3-acd97e99ea1e"
      },
      "source": [
        "# plot the histogram of TotalUnits\n",
        "plt.hist(df_c.TotalUnits)\n"
      ],
      "execution_count": 301,
      "outputs": [
        {
          "output_type": "execute_result",
          "data": {
            "text/plain": [
              "(array([ 118.,  109.,  404.,  618., 1447., 1186.,  381.,   52.,   17.,\n",
              "           2.]),\n",
              " array([0.        , 0.46249728, 0.92499456, 1.38749184, 1.84998913,\n",
              "        2.31248641, 2.77498369, 3.23748097, 3.69997825, 4.16247553,\n",
              "        4.62497281]),\n",
              " <a list of 10 Patch objects>)"
            ]
          },
          "metadata": {},
          "execution_count": 301
        },
        {
          "output_type": "display_data",
          "data": {
            "image/png": "[encoded data removed]",
            "text/plain": [
              "<Figure size 432x288 with 1 Axes>"
            ]
          },
          "metadata": {
            "needs_background": "light"
          }
        }
      ]
    },
    {
      "cell_type": "code",
      "metadata": {
        "id": "UOarQXL4gFv6",
        "colab": {
          "base_uri": "https://localhost:8080/",
          "height": 352
        },
        "outputId": "6bee5f2d-7e7a-4784-96f6-dba6afeef216"
      },
      "source": [
        "# plot the histogram of AveragePrice \n",
        "plt.hist(df_c.AveragePrice)\n"
      ],
      "execution_count": 302,
      "outputs": [
        {
          "output_type": "execute_result",
          "data": {
            "text/plain": [
              "(array([  4., 393., 580., 786., 926., 714., 523., 289., 107.,  12.]),\n",
              " array([-0.40546511, -0.10842366,  0.18861779,  0.48565923,  0.78270068,\n",
              "         1.07974212,  1.37678357,  1.67382502,  1.97086646,  2.26790791,\n",
              "         2.56494936]),\n",
              " <a list of 10 Patch objects>)"
            ]
          },
          "metadata": {},
          "execution_count": 302
        },
        {
          "output_type": "display_data",
          "data": {
            "image/png": "[encoded data removed]",
            "text/plain": [
              "<Figure size 432x288 with 1 Axes>"
            ]
          },
          "metadata": {
            "needs_background": "light"
          }
        }
      ]
    },
    {
      "cell_type": "code",
      "metadata": {
        "id": "OxlrIXpwH7qn",
        "colab": {
          "base_uri": "https://localhost:8080/",
          "height": 369
        },
        "outputId": "9c1f8ba2-c89d-4d0e-9209-fb4c2659bc52"
      },
      "source": [
        "# plot the histogram of SpendPerTrans \n",
        "plt.hist(df_c.SpendPerTrans)\n"
      ],
      "execution_count": 303,
      "outputs": [
        {
          "output_type": "execute_result",
          "data": {
            "text/plain": [
              "(array([  10.,   12.,  167.,  215.,  686., 1116., 1212.,  677.,  207.,\n",
              "          32.]),\n",
              " array([-1.09861229, -0.55308018, -0.00754807,  0.53798405,  1.08351616,\n",
              "         1.62904827,  2.17458038,  2.72011249,  3.2656446 ,  3.81117672,\n",
              "         4.35670883]),\n",
              " <a list of 10 Patch objects>)"
            ]
          },
          "metadata": {},
          "execution_count": 303
        },
        {
          "output_type": "display_data",
          "data": {
            "image/png": "[encoded data removed]",
            "text/plain": [
              "<Figure size 432x288 with 1 Axes>"
            ]
          },
          "metadata": {
            "needs_background": "light"
          }
        }
      ]
    },
    {
      "cell_type": "markdown",
      "metadata": {
        "id": "dDZw09uBeguU"
      },
      "source": [
        "**Answer this**\n",
        "\n",
        "Why might you want to transform these variables by taking logs of each of these variables? (Notice the difference after taking the log transformation)\n",
        "\n",
        "* Answer: because ths barchart will be more distrbuted to the hole chart "
      ]
    },
    {
      "cell_type": "markdown",
      "metadata": {
        "id": "ZM6npcrmYLi9"
      },
      "source": [
        "# Create standaradized version of df_c\n",
        "\n",
        "1. Create `df_c_std` that has all the columns of `df_c` except `CustomerID`.\n",
        "1. Write a loop through all the columns of `df_c_std` to standardize each column (compute the z-score by subtracting mean and dividing by standard deviation).\n"
      ]
    },
    {
      "cell_type": "code",
      "metadata": {
        "id": "HiRlII9OYQgE",
        "colab": {
          "base_uri": "https://localhost:8080/",
          "height": 423
        },
        "outputId": "755f0b85-deae-454d-a862-55deb4b94970"
      },
      "source": [
        "# First, create df_c_std by selecting all columns from df_c except CustomerID\n",
        "df_c_std=df_c.drop(['CustomerID'], axis=1)\n",
        "df_c_std\n"
      ],
      "execution_count": 304,
      "outputs": [
        {
          "output_type": "execute_result",
          "data": {
            "text/html": [
              "<div>\n",
              "<style scoped>\n",
              "    .dataframe tbody tr th:only-of-type {\n",
              "        vertical-align: middle;\n",
              "    }\n",
              "\n",
              "    .dataframe tbody tr th {\n",
              "        vertical-align: top;\n",
              "    }\n",
              "\n",
              "    .dataframe thead th {\n",
              "        text-align: right;\n",
              "    }\n",
              "</style>\n",
              "<table border=\"1\" class=\"dataframe\">\n",
              "  <thead>\n",
              "    <tr style=\"text-align: right;\">\n",
              "      <th></th>\n",
              "      <th>totalspend</th>\n",
              "      <th>TotalUnits</th>\n",
              "      <th>AveragePrice</th>\n",
              "      <th>NTrans</th>\n",
              "      <th>NProducts</th>\n",
              "      <th>SpendPerTrans</th>\n",
              "    </tr>\n",
              "  </thead>\n",
              "  <tbody>\n",
              "    <tr>\n",
              "      <th>0</th>\n",
              "      <td>0.000000</td>\n",
              "      <td>0.000000</td>\n",
              "      <td>0.000000</td>\n",
              "      <td>0.000000</td>\n",
              "      <td>0.000000</td>\n",
              "      <td>0.000000</td>\n",
              "    </tr>\n",
              "    <tr>\n",
              "      <th>1</th>\n",
              "      <td>4.025352</td>\n",
              "      <td>2.708050</td>\n",
              "      <td>1.317301</td>\n",
              "      <td>1.945910</td>\n",
              "      <td>4.634729</td>\n",
              "      <td>2.079442</td>\n",
              "    </tr>\n",
              "    <tr>\n",
              "      <th>2</th>\n",
              "      <td>2.639057</td>\n",
              "      <td>2.079442</td>\n",
              "      <td>0.559616</td>\n",
              "      <td>1.386294</td>\n",
              "      <td>3.044522</td>\n",
              "      <td>1.252763</td>\n",
              "    </tr>\n",
              "    <tr>\n",
              "      <th>3</th>\n",
              "      <td>3.713572</td>\n",
              "      <td>2.484907</td>\n",
              "      <td>1.228665</td>\n",
              "      <td>0.000000</td>\n",
              "      <td>4.276666</td>\n",
              "      <td>3.713572</td>\n",
              "    </tr>\n",
              "    <tr>\n",
              "      <th>4</th>\n",
              "      <td>2.079442</td>\n",
              "      <td>1.386294</td>\n",
              "      <td>0.693147</td>\n",
              "      <td>0.000000</td>\n",
              "      <td>2.772589</td>\n",
              "      <td>2.079442</td>\n",
              "    </tr>\n",
              "    <tr>\n",
              "      <th>...</th>\n",
              "      <td>...</td>\n",
              "      <td>...</td>\n",
              "      <td>...</td>\n",
              "      <td>...</td>\n",
              "      <td>...</td>\n",
              "      <td>...</td>\n",
              "    </tr>\n",
              "    <tr>\n",
              "      <th>4329</th>\n",
              "      <td>2.079442</td>\n",
              "      <td>1.609438</td>\n",
              "      <td>0.470004</td>\n",
              "      <td>0.000000</td>\n",
              "      <td>2.302585</td>\n",
              "      <td>2.079442</td>\n",
              "    </tr>\n",
              "    <tr>\n",
              "      <th>4330</th>\n",
              "      <td>1.386294</td>\n",
              "      <td>1.386294</td>\n",
              "      <td>0.000000</td>\n",
              "      <td>0.000000</td>\n",
              "      <td>1.945910</td>\n",
              "      <td>1.386294</td>\n",
              "    </tr>\n",
              "    <tr>\n",
              "      <th>4331</th>\n",
              "      <td>2.302585</td>\n",
              "      <td>2.079442</td>\n",
              "      <td>0.223144</td>\n",
              "      <td>0.693147</td>\n",
              "      <td>2.484907</td>\n",
              "      <td>1.609438</td>\n",
              "    </tr>\n",
              "    <tr>\n",
              "      <th>4332</th>\n",
              "      <td>4.330733</td>\n",
              "      <td>2.302585</td>\n",
              "      <td>2.028148</td>\n",
              "      <td>2.772589</td>\n",
              "      <td>5.568345</td>\n",
              "      <td>1.558145</td>\n",
              "    </tr>\n",
              "    <tr>\n",
              "      <th>4333</th>\n",
              "      <td>3.526361</td>\n",
              "      <td>2.302585</td>\n",
              "      <td>1.223775</td>\n",
              "      <td>1.098612</td>\n",
              "      <td>4.077537</td>\n",
              "      <td>2.427748</td>\n",
              "    </tr>\n",
              "  </tbody>\n",
              "</table>\n",
              "<p>4334 rows × 6 columns</p>\n",
              "</div>"
            ],
            "text/plain": [
              "      totalspend  TotalUnits  AveragePrice    NTrans  NProducts  SpendPerTrans\n",
              "0       0.000000    0.000000      0.000000  0.000000   0.000000       0.000000\n",
              "1       4.025352    2.708050      1.317301  1.945910   4.634729       2.079442\n",
              "2       2.639057    2.079442      0.559616  1.386294   3.044522       1.252763\n",
              "3       3.713572    2.484907      1.228665  0.000000   4.276666       3.713572\n",
              "4       2.079442    1.386294      0.693147  0.000000   2.772589       2.079442\n",
              "...          ...         ...           ...       ...        ...            ...\n",
              "4329    2.079442    1.609438      0.470004  0.000000   2.302585       2.079442\n",
              "4330    1.386294    1.386294      0.000000  0.000000   1.945910       1.386294\n",
              "4331    2.302585    2.079442      0.223144  0.693147   2.484907       1.609438\n",
              "4332    4.330733    2.302585      2.028148  2.772589   5.568345       1.558145\n",
              "4333    3.526361    2.302585      1.223775  1.098612   4.077537       2.427748\n",
              "\n",
              "[4334 rows x 6 columns]"
            ]
          },
          "metadata": {},
          "execution_count": 304
        }
      ]
    },
    {
      "cell_type": "code",
      "metadata": {
        "id": "22TAskuVZamE"
      },
      "source": [
        "# write a loop to standardize each column of df_c_std\n",
        "# by replacing each column with (that column - the mean of the column) / std of column\n",
        "for c in df_c_std.columns[1:]:\n",
        "  df_c_std[c] = (df_c_std[c]-df_c[c].mean())/df_c_std[c].std(ddof=0)\n"
      ],
      "execution_count": 305,
      "outputs": []
    },
    {
      "cell_type": "code",
      "metadata": {
        "id": "oXmMOxhyZ1eF",
        "colab": {
          "base_uri": "https://localhost:8080/",
          "height": 423
        },
        "outputId": "910631c3-3250-4d29-a50b-376af0bfe8d6"
      },
      "source": [
        "# preview df_c_std to make sure the values have been standardized \n",
        "df_c_std\n"
      ],
      "execution_count": 306,
      "outputs": [
        {
          "output_type": "execute_result",
          "data": {
            "text/html": [
              "<div>\n",
              "<style scoped>\n",
              "    .dataframe tbody tr th:only-of-type {\n",
              "        vertical-align: middle;\n",
              "    }\n",
              "\n",
              "    .dataframe tbody tr th {\n",
              "        vertical-align: top;\n",
              "    }\n",
              "\n",
              "    .dataframe thead th {\n",
              "        text-align: right;\n",
              "    }\n",
              "</style>\n",
              "<table border=\"1\" class=\"dataframe\">\n",
              "  <thead>\n",
              "    <tr style=\"text-align: right;\">\n",
              "      <th></th>\n",
              "      <th>totalspend</th>\n",
              "      <th>TotalUnits</th>\n",
              "      <th>AveragePrice</th>\n",
              "      <th>NTrans</th>\n",
              "      <th>NProducts</th>\n",
              "      <th>SpendPerTrans</th>\n",
              "    </tr>\n",
              "  </thead>\n",
              "  <tbody>\n",
              "    <tr>\n",
              "      <th>0</th>\n",
              "      <td>0.000000</td>\n",
              "      <td>-3.217703</td>\n",
              "      <td>-1.741272</td>\n",
              "      <td>-1.043825</td>\n",
              "      <td>-2.861730</td>\n",
              "      <td>-2.603266</td>\n",
              "    </tr>\n",
              "    <tr>\n",
              "      <th>1</th>\n",
              "      <td>4.025352</td>\n",
              "      <td>0.919772</td>\n",
              "      <td>0.732621</td>\n",
              "      <td>1.119214</td>\n",
              "      <td>0.943303</td>\n",
              "      <td>-0.018337</td>\n",
              "    </tr>\n",
              "    <tr>\n",
              "      <th>2</th>\n",
              "      <td>2.639057</td>\n",
              "      <td>-0.040643</td>\n",
              "      <td>-0.690313</td>\n",
              "      <td>0.497155</td>\n",
              "      <td>-0.362229</td>\n",
              "      <td>-1.045971</td>\n",
              "    </tr>\n",
              "    <tr>\n",
              "      <th>3</th>\n",
              "      <td>3.713572</td>\n",
              "      <td>0.578844</td>\n",
              "      <td>0.566163</td>\n",
              "      <td>-1.043825</td>\n",
              "      <td>0.649339</td>\n",
              "      <td>2.013031</td>\n",
              "    </tr>\n",
              "    <tr>\n",
              "      <th>4</th>\n",
              "      <td>2.079442</td>\n",
              "      <td>-1.099663</td>\n",
              "      <td>-0.439541</td>\n",
              "      <td>-1.043825</td>\n",
              "      <td>-0.585482</td>\n",
              "      <td>-0.018337</td>\n",
              "    </tr>\n",
              "    <tr>\n",
              "      <th>...</th>\n",
              "      <td>...</td>\n",
              "      <td>...</td>\n",
              "      <td>...</td>\n",
              "      <td>...</td>\n",
              "      <td>...</td>\n",
              "      <td>...</td>\n",
              "    </tr>\n",
              "    <tr>\n",
              "      <th>4329</th>\n",
              "      <td>2.079442</td>\n",
              "      <td>-0.758735</td>\n",
              "      <td>-0.858605</td>\n",
              "      <td>-1.043825</td>\n",
              "      <td>-0.971347</td>\n",
              "      <td>-0.018337</td>\n",
              "    </tr>\n",
              "    <tr>\n",
              "      <th>4330</th>\n",
              "      <td>1.386294</td>\n",
              "      <td>-1.099663</td>\n",
              "      <td>-1.741272</td>\n",
              "      <td>-1.043825</td>\n",
              "      <td>-1.264171</td>\n",
              "      <td>-0.879980</td>\n",
              "    </tr>\n",
              "    <tr>\n",
              "      <th>4331</th>\n",
              "      <td>2.302585</td>\n",
              "      <td>-0.040643</td>\n",
              "      <td>-1.322208</td>\n",
              "      <td>-0.273335</td>\n",
              "      <td>-0.821664</td>\n",
              "      <td>-0.602593</td>\n",
              "    </tr>\n",
              "    <tr>\n",
              "      <th>4332</th>\n",
              "      <td>4.330733</td>\n",
              "      <td>0.300285</td>\n",
              "      <td>2.067592</td>\n",
              "      <td>2.038135</td>\n",
              "      <td>1.709785</td>\n",
              "      <td>-0.666355</td>\n",
              "    </tr>\n",
              "    <tr>\n",
              "      <th>4333</th>\n",
              "      <td>3.526361</td>\n",
              "      <td>0.300285</td>\n",
              "      <td>0.556979</td>\n",
              "      <td>0.177373</td>\n",
              "      <td>0.485858</td>\n",
              "      <td>0.414639</td>\n",
              "    </tr>\n",
              "  </tbody>\n",
              "</table>\n",
              "<p>4334 rows × 6 columns</p>\n",
              "</div>"
            ],
            "text/plain": [
              "      totalspend  TotalUnits  AveragePrice    NTrans  NProducts  SpendPerTrans\n",
              "0       0.000000   -3.217703     -1.741272 -1.043825  -2.861730      -2.603266\n",
              "1       4.025352    0.919772      0.732621  1.119214   0.943303      -0.018337\n",
              "2       2.639057   -0.040643     -0.690313  0.497155  -0.362229      -1.045971\n",
              "3       3.713572    0.578844      0.566163 -1.043825   0.649339       2.013031\n",
              "4       2.079442   -1.099663     -0.439541 -1.043825  -0.585482      -0.018337\n",
              "...          ...         ...           ...       ...        ...            ...\n",
              "4329    2.079442   -0.758735     -0.858605 -1.043825  -0.971347      -0.018337\n",
              "4330    1.386294   -1.099663     -1.741272 -1.043825  -1.264171      -0.879980\n",
              "4331    2.302585   -0.040643     -1.322208 -0.273335  -0.821664      -0.602593\n",
              "4332    4.330733    0.300285      2.067592  2.038135   1.709785      -0.666355\n",
              "4333    3.526361    0.300285      0.556979  0.177373   0.485858       0.414639\n",
              "\n",
              "[4334 rows x 6 columns]"
            ]
          },
          "metadata": {},
          "execution_count": 306
        }
      ]
    },
    {
      "cell_type": "markdown",
      "metadata": {
        "id": "k74kDrhraT7G"
      },
      "source": [
        "**Answer question**\n",
        "\n",
        "Why is it important to standardize variables before performing clustering?\n",
        "\n",
        "* Answer: We standardize the data in order to ensure that all dimensions are treated similarly"
      ]
    },
    {
      "cell_type": "markdown",
      "metadata": {
        "id": "If2zZNEsmC10"
      },
      "source": [
        "# Part 2 Segmentation (5 points)\n"
      ]
    },
    {
      "cell_type": "markdown",
      "metadata": {
        "id": "9xNZsG0TYO8E"
      },
      "source": [
        "\n",
        "## Dimensionality reduction\n",
        "\n",
        "1. Compute the 2D principal components transformation of `df_c_std`, call this `transformed`\n",
        "1. Make sure `transformed` is a dataframe, then name the columns 'p0' and 'p1' for principal component 0 and 1, respectively.\n",
        "1. Add `p0` and `p1` to the df_c dataframe (create the same 2 columns in df_c).\n",
        "\n",
        "Create a scatter plot of the principal components 0 vs 1. \n"
      ]
    },
    {
      "cell_type": "markdown",
      "metadata": {
        "id": "g-UvjJcfbBMp"
      },
      "source": [
        "**Answer question**\n",
        "\n",
        "Why might you want to reduce the dimensionality of your data (using PCA) before performing clustering?\n",
        "\n",
        "* Answer: Using PCA before K-means clustering minimizes the number of dimensions and reduces the cost of computation."
      ]
    },
    {
      "cell_type": "code",
      "metadata": {
        "id": "D7J7Iyeta6hx"
      },
      "source": [
        "# Use PCA to reduce df_c_std to its first 2 principle components\n",
        "# store the result as 2 columns in the *df_c* dataframe:\n",
        "# 'pc1' and 'pc2'\n",
        "from sklearn.decomposition import PCA\n",
        "pca= PCA(n_components=2)\n",
        "transformed = pca.fit_transform(np.array(df_c_std))\n",
        "transformed.shape\n",
        "transformed = pd.DataFrame(transformed , columns=['pc1','pc2'])\n",
        "df_c[['pc1','pc2']]= transformed"
      ],
      "execution_count": 307,
      "outputs": []
    },
    {
      "cell_type": "code",
      "metadata": {
        "id": "yTqP6A_KdVVz",
        "colab": {
          "base_uri": "https://localhost:8080/",
          "height": 423
        },
        "outputId": "63ee2edf-af85-4ddc-cc1b-dd22a769ffeb"
      },
      "source": [
        "# take a look at df_c to make sure principle components are in the dataframe\n",
        "df_c\n"
      ],
      "execution_count": 308,
      "outputs": [
        {
          "output_type": "execute_result",
          "data": {
            "text/html": [
              "<div>\n",
              "<style scoped>\n",
              "    .dataframe tbody tr th:only-of-type {\n",
              "        vertical-align: middle;\n",
              "    }\n",
              "\n",
              "    .dataframe tbody tr th {\n",
              "        vertical-align: top;\n",
              "    }\n",
              "\n",
              "    .dataframe thead th {\n",
              "        text-align: right;\n",
              "    }\n",
              "</style>\n",
              "<table border=\"1\" class=\"dataframe\">\n",
              "  <thead>\n",
              "    <tr style=\"text-align: right;\">\n",
              "      <th></th>\n",
              "      <th>CustomerID</th>\n",
              "      <th>totalspend</th>\n",
              "      <th>TotalUnits</th>\n",
              "      <th>AveragePrice</th>\n",
              "      <th>NTrans</th>\n",
              "      <th>NProducts</th>\n",
              "      <th>SpendPerTrans</th>\n",
              "      <th>pc1</th>\n",
              "      <th>pc2</th>\n",
              "    </tr>\n",
              "  </thead>\n",
              "  <tbody>\n",
              "    <tr>\n",
              "      <th>0</th>\n",
              "      <td>12346.0</td>\n",
              "      <td>0.000000</td>\n",
              "      <td>0.000000</td>\n",
              "      <td>0.000000</td>\n",
              "      <td>0.000000</td>\n",
              "      <td>0.000000</td>\n",
              "      <td>0.000000</td>\n",
              "      <td>-5.989464</td>\n",
              "      <td>1.163776</td>\n",
              "    </tr>\n",
              "    <tr>\n",
              "      <th>1</th>\n",
              "      <td>12347.0</td>\n",
              "      <td>4.025352</td>\n",
              "      <td>2.708050</td>\n",
              "      <td>1.317301</td>\n",
              "      <td>1.945910</td>\n",
              "      <td>4.634729</td>\n",
              "      <td>2.079442</td>\n",
              "      <td>1.991412</td>\n",
              "      <td>0.737147</td>\n",
              "    </tr>\n",
              "    <tr>\n",
              "      <th>2</th>\n",
              "      <td>12348.0</td>\n",
              "      <td>2.639057</td>\n",
              "      <td>2.079442</td>\n",
              "      <td>0.559616</td>\n",
              "      <td>1.386294</td>\n",
              "      <td>3.044522</td>\n",
              "      <td>1.252763</td>\n",
              "      <td>-0.789620</td>\n",
              "      <td>1.182993</td>\n",
              "    </tr>\n",
              "    <tr>\n",
              "      <th>3</th>\n",
              "      <td>12349.0</td>\n",
              "      <td>3.713572</td>\n",
              "      <td>2.484907</td>\n",
              "      <td>1.228665</td>\n",
              "      <td>0.000000</td>\n",
              "      <td>4.276666</td>\n",
              "      <td>3.713572</td>\n",
              "      <td>1.328665</td>\n",
              "      <td>-2.189173</td>\n",
              "    </tr>\n",
              "    <tr>\n",
              "      <th>4</th>\n",
              "      <td>12350.0</td>\n",
              "      <td>2.079442</td>\n",
              "      <td>1.386294</td>\n",
              "      <td>0.693147</td>\n",
              "      <td>0.000000</td>\n",
              "      <td>2.772589</td>\n",
              "      <td>2.079442</td>\n",
              "      <td>-1.744347</td>\n",
              "      <td>-0.724558</td>\n",
              "    </tr>\n",
              "    <tr>\n",
              "      <th>...</th>\n",
              "      <td>...</td>\n",
              "      <td>...</td>\n",
              "      <td>...</td>\n",
              "      <td>...</td>\n",
              "      <td>...</td>\n",
              "      <td>...</td>\n",
              "      <td>...</td>\n",
              "      <td>...</td>\n",
              "      <td>...</td>\n",
              "    </tr>\n",
              "    <tr>\n",
              "      <th>4329</th>\n",
              "      <td>18280.0</td>\n",
              "      <td>2.079442</td>\n",
              "      <td>1.609438</td>\n",
              "      <td>0.470004</td>\n",
              "      <td>0.000000</td>\n",
              "      <td>2.302585</td>\n",
              "      <td>2.079442</td>\n",
              "      <td>-1.954407</td>\n",
              "      <td>-0.627569</td>\n",
              "    </tr>\n",
              "    <tr>\n",
              "      <th>4330</th>\n",
              "      <td>18281.0</td>\n",
              "      <td>1.386294</td>\n",
              "      <td>1.386294</td>\n",
              "      <td>0.000000</td>\n",
              "      <td>0.000000</td>\n",
              "      <td>1.945910</td>\n",
              "      <td>1.386294</td>\n",
              "      <td>-3.178798</td>\n",
              "      <td>0.080678</td>\n",
              "    </tr>\n",
              "    <tr>\n",
              "      <th>4331</th>\n",
              "      <td>18282.0</td>\n",
              "      <td>2.302585</td>\n",
              "      <td>2.079442</td>\n",
              "      <td>0.223144</td>\n",
              "      <td>0.693147</td>\n",
              "      <td>2.484907</td>\n",
              "      <td>1.609438</td>\n",
              "      <td>-1.565385</td>\n",
              "      <td>0.436933</td>\n",
              "    </tr>\n",
              "    <tr>\n",
              "      <th>4332</th>\n",
              "      <td>18283.0</td>\n",
              "      <td>4.330733</td>\n",
              "      <td>2.302585</td>\n",
              "      <td>2.028148</td>\n",
              "      <td>2.772589</td>\n",
              "      <td>5.568345</td>\n",
              "      <td>1.558145</td>\n",
              "      <td>2.916086</td>\n",
              "      <td>1.573196</td>\n",
              "    </tr>\n",
              "    <tr>\n",
              "      <th>4333</th>\n",
              "      <td>18287.0</td>\n",
              "      <td>3.526361</td>\n",
              "      <td>2.302585</td>\n",
              "      <td>1.223775</td>\n",
              "      <td>1.098612</td>\n",
              "      <td>4.077537</td>\n",
              "      <td>2.427748</td>\n",
              "      <td>1.001724</td>\n",
              "      <td>-0.234627</td>\n",
              "    </tr>\n",
              "  </tbody>\n",
              "</table>\n",
              "<p>4334 rows × 9 columns</p>\n",
              "</div>"
            ],
            "text/plain": [
              "      CustomerID  totalspend  TotalUnits  ...  SpendPerTrans       pc1       pc2\n",
              "0        12346.0    0.000000    0.000000  ...       0.000000 -5.989464  1.163776\n",
              "1        12347.0    4.025352    2.708050  ...       2.079442  1.991412  0.737147\n",
              "2        12348.0    2.639057    2.079442  ...       1.252763 -0.789620  1.182993\n",
              "3        12349.0    3.713572    2.484907  ...       3.713572  1.328665 -2.189173\n",
              "4        12350.0    2.079442    1.386294  ...       2.079442 -1.744347 -0.724558\n",
              "...          ...         ...         ...  ...            ...       ...       ...\n",
              "4329     18280.0    2.079442    1.609438  ...       2.079442 -1.954407 -0.627569\n",
              "4330     18281.0    1.386294    1.386294  ...       1.386294 -3.178798  0.080678\n",
              "4331     18282.0    2.302585    2.079442  ...       1.609438 -1.565385  0.436933\n",
              "4332     18283.0    4.330733    2.302585  ...       1.558145  2.916086  1.573196\n",
              "4333     18287.0    3.526361    2.302585  ...       2.427748  1.001724 -0.234627\n",
              "\n",
              "[4334 rows x 9 columns]"
            ]
          },
          "metadata": {},
          "execution_count": 308
        }
      ]
    },
    {
      "cell_type": "code",
      "metadata": {
        "id": "4eyoD1r2dxoq",
        "colab": {
          "base_uri": "https://localhost:8080/",
          "height": 285
        },
        "outputId": "ab45d6fa-53b6-4c99-e348-6ae0b240dc1d"
      },
      "source": [
        "# Create a scatterplot of pc1 vs pc2\n",
        "plt.scatter(df_c.pc1, df_c.pc2)\n"
      ],
      "execution_count": 309,
      "outputs": [
        {
          "output_type": "execute_result",
          "data": {
            "text/plain": [
              "<matplotlib.collections.PathCollection at 0x7f98d65a2d90>"
            ]
          },
          "metadata": {},
          "execution_count": 309
        },
        {
          "output_type": "display_data",
          "data": {
            "image/png": "[encoded data removed]",
            "text/plain": [
              "<Figure size 432x288 with 1 Axes>"
            ]
          },
          "metadata": {
            "needs_background": "light"
          }
        }
      ]
    },
    {
      "cell_type": "markdown",
      "metadata": {
        "id": "YM7vMz1zaKcS"
      },
      "source": [
        "\n",
        "## Segmentation\n",
        "Using a loop, compute the k-means clustering for $k$ from 2 to 10 segments using the `transformed` dataframe. Store the segment as the column `'seg2'`,`'seg3'`,...,`'seg10'` in the `df_c` dataframe. Make sure you store the inertia metrics in a list called `elbowdata` like in the notes. Create the elbow plot for your k-means clustering. \n",
        "\n",
        "1. How many segments does there appear to be based on the elbow plot?\n",
        "1. Use a loop to plot p0 vs p1 for each segment (different color for each segment)\n",
        "1. Use a groupby statement to show the mean of the variables in the raw versions (not z-scores) used to conduct the segmentation. e.g. what are the averages of `['NTrans', 'NProducts', 'TotalSpend', 'AveragePrice', 'SpendPerTrans', 'SKUsPerTrans']`\n",
        "\n",
        "1. In a few sentences, describe what are the characteristics of the resulting segments. Any distinctive segments?\n",
        "\n",
        "**Hints**\n",
        "1. Note here that `k` should be the number of clusters at each iteration of your loop, e.g. `for k in ....` \n",
        "2. `df_c['seg{}'.format(k)]=` your k-means segmentation to create the `'seg2'`, ..., `'seg15'` columns."
      ]
    },
    {
      "cell_type": "code",
      "metadata": {
        "id": "PoySPb11g4Oz"
      },
      "source": [
        "# Write a loop to perform k-means segmentation \n",
        "# on the principal component columns, e.g. pc1 and pc2, in *df_c*\n",
        "# for k from 2 to 10, e.g. for k in range(2,11):\n",
        "# Be sure to save the inertia metric to create the elbowplot\n",
        "# see similar example in notes\n",
        "elbowdata = list()\n",
        "for k in range(2,11):\n",
        " clusterer = KMeans(n_clusters=k)\n",
        " df_c['seg_{}'.format(k)]= clusterer.fit_predict(transformed)\n",
        " inertia = clusterer.inertia_\n",
        " elbowdata.append([k, inertia])\n",
        "elbowdata= pd.DataFrame(elbowdata, columns= ['k','inertia'])\n"
      ],
      "execution_count": 310,
      "outputs": []
    },
    {
      "cell_type": "code",
      "metadata": {
        "id": "dJBzu1CSjpqa",
        "colab": {
          "base_uri": "https://localhost:8080/",
          "height": 423
        },
        "outputId": "7d652ccc-0996-4f48-cb5b-0043fe0763d9"
      },
      "source": [
        "# preview your dataframe df_c to get an idea of the contents\n",
        "df_c\n"
      ],
      "execution_count": 311,
      "outputs": [
        {
          "output_type": "execute_result",
          "data": {
            "text/html": [
              "<div>\n",
              "<style scoped>\n",
              "    .dataframe tbody tr th:only-of-type {\n",
              "        vertical-align: middle;\n",
              "    }\n",
              "\n",
              "    .dataframe tbody tr th {\n",
              "        vertical-align: top;\n",
              "    }\n",
              "\n",
              "    .dataframe thead th {\n",
              "        text-align: right;\n",
              "    }\n",
              "</style>\n",
              "<table border=\"1\" class=\"dataframe\">\n",
              "  <thead>\n",
              "    <tr style=\"text-align: right;\">\n",
              "      <th></th>\n",
              "      <th>CustomerID</th>\n",
              "      <th>totalspend</th>\n",
              "      <th>TotalUnits</th>\n",
              "      <th>AveragePrice</th>\n",
              "      <th>NTrans</th>\n",
              "      <th>NProducts</th>\n",
              "      <th>SpendPerTrans</th>\n",
              "      <th>pc1</th>\n",
              "      <th>pc2</th>\n",
              "      <th>seg_2</th>\n",
              "      <th>seg_3</th>\n",
              "      <th>seg_4</th>\n",
              "      <th>seg_5</th>\n",
              "      <th>seg_6</th>\n",
              "      <th>seg_7</th>\n",
              "      <th>seg_8</th>\n",
              "      <th>seg_9</th>\n",
              "      <th>seg_10</th>\n",
              "    </tr>\n",
              "  </thead>\n",
              "  <tbody>\n",
              "    <tr>\n",
              "      <th>0</th>\n",
              "      <td>12346.0</td>\n",
              "      <td>0.000000</td>\n",
              "      <td>0.000000</td>\n",
              "      <td>0.000000</td>\n",
              "      <td>0.000000</td>\n",
              "      <td>0.000000</td>\n",
              "      <td>0.000000</td>\n",
              "      <td>-5.989464</td>\n",
              "      <td>1.163776</td>\n",
              "      <td>1</td>\n",
              "      <td>1</td>\n",
              "      <td>1</td>\n",
              "      <td>0</td>\n",
              "      <td>5</td>\n",
              "      <td>3</td>\n",
              "      <td>3</td>\n",
              "      <td>3</td>\n",
              "      <td>5</td>\n",
              "    </tr>\n",
              "    <tr>\n",
              "      <th>1</th>\n",
              "      <td>12347.0</td>\n",
              "      <td>4.025352</td>\n",
              "      <td>2.708050</td>\n",
              "      <td>1.317301</td>\n",
              "      <td>1.945910</td>\n",
              "      <td>4.634729</td>\n",
              "      <td>2.079442</td>\n",
              "      <td>1.991412</td>\n",
              "      <td>0.737147</td>\n",
              "      <td>0</td>\n",
              "      <td>0</td>\n",
              "      <td>3</td>\n",
              "      <td>1</td>\n",
              "      <td>4</td>\n",
              "      <td>5</td>\n",
              "      <td>1</td>\n",
              "      <td>8</td>\n",
              "      <td>2</td>\n",
              "    </tr>\n",
              "    <tr>\n",
              "      <th>2</th>\n",
              "      <td>12348.0</td>\n",
              "      <td>2.639057</td>\n",
              "      <td>2.079442</td>\n",
              "      <td>0.559616</td>\n",
              "      <td>1.386294</td>\n",
              "      <td>3.044522</td>\n",
              "      <td>1.252763</td>\n",
              "      <td>-0.789620</td>\n",
              "      <td>1.182993</td>\n",
              "      <td>1</td>\n",
              "      <td>2</td>\n",
              "      <td>2</td>\n",
              "      <td>4</td>\n",
              "      <td>0</td>\n",
              "      <td>1</td>\n",
              "      <td>0</td>\n",
              "      <td>5</td>\n",
              "      <td>3</td>\n",
              "    </tr>\n",
              "    <tr>\n",
              "      <th>3</th>\n",
              "      <td>12349.0</td>\n",
              "      <td>3.713572</td>\n",
              "      <td>2.484907</td>\n",
              "      <td>1.228665</td>\n",
              "      <td>0.000000</td>\n",
              "      <td>4.276666</td>\n",
              "      <td>3.713572</td>\n",
              "      <td>1.328665</td>\n",
              "      <td>-2.189173</td>\n",
              "      <td>0</td>\n",
              "      <td>2</td>\n",
              "      <td>0</td>\n",
              "      <td>2</td>\n",
              "      <td>2</td>\n",
              "      <td>2</td>\n",
              "      <td>5</td>\n",
              "      <td>6</td>\n",
              "      <td>0</td>\n",
              "    </tr>\n",
              "    <tr>\n",
              "      <th>4</th>\n",
              "      <td>12350.0</td>\n",
              "      <td>2.079442</td>\n",
              "      <td>1.386294</td>\n",
              "      <td>0.693147</td>\n",
              "      <td>0.000000</td>\n",
              "      <td>2.772589</td>\n",
              "      <td>2.079442</td>\n",
              "      <td>-1.744347</td>\n",
              "      <td>-0.724558</td>\n",
              "      <td>1</td>\n",
              "      <td>2</td>\n",
              "      <td>2</td>\n",
              "      <td>3</td>\n",
              "      <td>1</td>\n",
              "      <td>0</td>\n",
              "      <td>6</td>\n",
              "      <td>0</td>\n",
              "      <td>1</td>\n",
              "    </tr>\n",
              "    <tr>\n",
              "      <th>...</th>\n",
              "      <td>...</td>\n",
              "      <td>...</td>\n",
              "      <td>...</td>\n",
              "      <td>...</td>\n",
              "      <td>...</td>\n",
              "      <td>...</td>\n",
              "      <td>...</td>\n",
              "      <td>...</td>\n",
              "      <td>...</td>\n",
              "      <td>...</td>\n",
              "      <td>...</td>\n",
              "      <td>...</td>\n",
              "      <td>...</td>\n",
              "      <td>...</td>\n",
              "      <td>...</td>\n",
              "      <td>...</td>\n",
              "      <td>...</td>\n",
              "      <td>...</td>\n",
              "    </tr>\n",
              "    <tr>\n",
              "      <th>4329</th>\n",
              "      <td>18280.0</td>\n",
              "      <td>2.079442</td>\n",
              "      <td>1.609438</td>\n",
              "      <td>0.470004</td>\n",
              "      <td>0.000000</td>\n",
              "      <td>2.302585</td>\n",
              "      <td>2.079442</td>\n",
              "      <td>-1.954407</td>\n",
              "      <td>-0.627569</td>\n",
              "      <td>1</td>\n",
              "      <td>2</td>\n",
              "      <td>2</td>\n",
              "      <td>3</td>\n",
              "      <td>1</td>\n",
              "      <td>0</td>\n",
              "      <td>6</td>\n",
              "      <td>2</td>\n",
              "      <td>1</td>\n",
              "    </tr>\n",
              "    <tr>\n",
              "      <th>4330</th>\n",
              "      <td>18281.0</td>\n",
              "      <td>1.386294</td>\n",
              "      <td>1.386294</td>\n",
              "      <td>0.000000</td>\n",
              "      <td>0.000000</td>\n",
              "      <td>1.945910</td>\n",
              "      <td>1.386294</td>\n",
              "      <td>-3.178798</td>\n",
              "      <td>0.080678</td>\n",
              "      <td>1</td>\n",
              "      <td>1</td>\n",
              "      <td>1</td>\n",
              "      <td>0</td>\n",
              "      <td>1</td>\n",
              "      <td>0</td>\n",
              "      <td>6</td>\n",
              "      <td>2</td>\n",
              "      <td>9</td>\n",
              "    </tr>\n",
              "    <tr>\n",
              "      <th>4331</th>\n",
              "      <td>18282.0</td>\n",
              "      <td>2.302585</td>\n",
              "      <td>2.079442</td>\n",
              "      <td>0.223144</td>\n",
              "      <td>0.693147</td>\n",
              "      <td>2.484907</td>\n",
              "      <td>1.609438</td>\n",
              "      <td>-1.565385</td>\n",
              "      <td>0.436933</td>\n",
              "      <td>1</td>\n",
              "      <td>2</td>\n",
              "      <td>2</td>\n",
              "      <td>3</td>\n",
              "      <td>1</td>\n",
              "      <td>0</td>\n",
              "      <td>6</td>\n",
              "      <td>5</td>\n",
              "      <td>1</td>\n",
              "    </tr>\n",
              "    <tr>\n",
              "      <th>4332</th>\n",
              "      <td>18283.0</td>\n",
              "      <td>4.330733</td>\n",
              "      <td>2.302585</td>\n",
              "      <td>2.028148</td>\n",
              "      <td>2.772589</td>\n",
              "      <td>5.568345</td>\n",
              "      <td>1.558145</td>\n",
              "      <td>2.916086</td>\n",
              "      <td>1.573196</td>\n",
              "      <td>0</td>\n",
              "      <td>0</td>\n",
              "      <td>3</td>\n",
              "      <td>1</td>\n",
              "      <td>4</td>\n",
              "      <td>4</td>\n",
              "      <td>4</td>\n",
              "      <td>4</td>\n",
              "      <td>7</td>\n",
              "    </tr>\n",
              "    <tr>\n",
              "      <th>4333</th>\n",
              "      <td>18287.0</td>\n",
              "      <td>3.526361</td>\n",
              "      <td>2.302585</td>\n",
              "      <td>1.223775</td>\n",
              "      <td>1.098612</td>\n",
              "      <td>4.077537</td>\n",
              "      <td>2.427748</td>\n",
              "      <td>1.001724</td>\n",
              "      <td>-0.234627</td>\n",
              "      <td>0</td>\n",
              "      <td>0</td>\n",
              "      <td>0</td>\n",
              "      <td>2</td>\n",
              "      <td>2</td>\n",
              "      <td>1</td>\n",
              "      <td>7</td>\n",
              "      <td>1</td>\n",
              "      <td>4</td>\n",
              "    </tr>\n",
              "  </tbody>\n",
              "</table>\n",
              "<p>4334 rows × 18 columns</p>\n",
              "</div>"
            ],
            "text/plain": [
              "      CustomerID  totalspend  TotalUnits  ...  seg_8  seg_9  seg_10\n",
              "0        12346.0    0.000000    0.000000  ...      3      3       5\n",
              "1        12347.0    4.025352    2.708050  ...      1      8       2\n",
              "2        12348.0    2.639057    2.079442  ...      0      5       3\n",
              "3        12349.0    3.713572    2.484907  ...      5      6       0\n",
              "4        12350.0    2.079442    1.386294  ...      6      0       1\n",
              "...          ...         ...         ...  ...    ...    ...     ...\n",
              "4329     18280.0    2.079442    1.609438  ...      6      2       1\n",
              "4330     18281.0    1.386294    1.386294  ...      6      2       9\n",
              "4331     18282.0    2.302585    2.079442  ...      6      5       1\n",
              "4332     18283.0    4.330733    2.302585  ...      4      4       7\n",
              "4333     18287.0    3.526361    2.302585  ...      7      1       4\n",
              "\n",
              "[4334 rows x 18 columns]"
            ]
          },
          "metadata": {},
          "execution_count": 311
        }
      ]
    },
    {
      "cell_type": "markdown",
      "metadata": {
        "id": "LAGmDztOj8fo"
      },
      "source": [
        "**Answer this**\n",
        "What does each of the segk (for k =1,...,10) columns represent?\n",
        "\n",
        "1. Answer: "
      ]
    },
    {
      "cell_type": "code",
      "metadata": {
        "id": "b8f-xQZHhur2",
        "colab": {
          "base_uri": "https://localhost:8080/",
          "height": 501
        },
        "outputId": "9731ebc3-fb20-4e47-f542-78a5cb8898ed"
      },
      "source": [
        "# Create the elbow plot\n",
        "fig, ax= plt.subplots(1, figsize=(10,8))\n",
        "ax.plot(elbowdata.k, elbowdata.inertia)\n"
      ],
      "execution_count": 324,
      "outputs": [
        {
          "output_type": "execute_result",
          "data": {
            "text/plain": [
              "[<matplotlib.lines.Line2D at 0x7f98d631a210>]"
            ]
          },
          "metadata": {},
          "execution_count": 324
        },
        {
          "output_type": "display_data",
          "data": {
            "image/png": "[encoded data removed]",
            "text/plain": [
              "<Figure size 720x576 with 1 Axes>"
            ]
          },
          "metadata": {
            "needs_background": "light"
          }
        }
      ]
    },
    {
      "cell_type": "markdown",
      "metadata": {
        "id": "Kmh4Hzbpir6H"
      },
      "source": [
        "**Answer this**\n",
        "Based on the eyeball test, where is the \"elbow\"? i.e. how many clusters seems the \"right\" number\n",
        "1. Answer: Elbow graph suggests maybe 3 segments"
      ]
    },
    {
      "cell_type": "markdown",
      "metadata": {
        "id": "KPpc9erki3_R"
      },
      "source": [
        "## Inspect segments"
      ]
    },
    {
      "cell_type": "code",
      "metadata": {
        "id": "0HopXsWkjepu",
        "colab": {
          "base_uri": "https://localhost:8080/",
          "height": 267
        },
        "outputId": "3dea1d2b-cd16-46fa-e8b6-39eaee1d86b4"
      },
      "source": [
        "# Write a loop through each of the segments in your optimal KMeans cluster \n",
        "# and plot pc1 vs pc2 for that segment\n",
        "# similar to plotting price vs demand for each region of avocados dataset\n",
        "# use dot size 1\n",
        "# e.g.\n",
        "# for s in df_c['segk'].unique():\n",
        "#     temp = df_c[df_c['segk'] == s]\n",
        "#     plt.scatter(temp.pc1, temp.pc2, s = 1)\n",
        "# where segk is whichever KMeans result you deemed optimal based on previous elbow \n",
        "for s in df_c['seg_2'].unique():\n",
        "  temp = df_c[df_c['seg_2']==s]\n",
        "  plt.scatter(temp.pc1, temp.pc2, s=1)\n"
      ],
      "execution_count": 338,
      "outputs": [
        {
          "output_type": "display_data",
          "data": {
            "image/png": "[encoded data removed]",
            "text/plain": [
              "<Figure size 432x288 with 1 Axes>"
            ]
          },
          "metadata": {
            "needs_background": "light"
          }
        }
      ]
    },
    {
      "cell_type": "markdown",
      "metadata": {
        "id": "3TTVE4COi8Dp"
      },
      "source": [
        "Compute the average of: \n",
        "```\n",
        "NTrans\tNProducts\tTotalSpend\tTotalUnits\tAveragePrice SpendPerTrans\n",
        "```\n",
        "For each segment of the optimal KMeans segmentation (optimal being the k you found above in elbow plot).\n",
        "\n",
        "Since these variables in df_c have been log-transformed, use np.exp(the appropriate groupby + mean statement) to take the exponent of the resulting means, i.e. \"undo\" the log-transformation.\n",
        "\n",
        "e.g. np.exp(df.groupby('grpvar')['var1', 'var2','var3',...,etc.].mean())"
      ]
    },
    {
      "cell_type": "code",
      "metadata": {
        "id": "xAwQEioMjcw9",
        "colab": {
          "base_uri": "https://localhost:8080/",
          "height": 429
        },
        "outputId": "248a2e0c-56da-4d5e-b915-e6ef43c35e47"
      },
      "source": [
        "# segment averages\n",
        "np.exp(df_c.groupby('seg_10')['NTrans', 'NProducts','totalspend', 'TotalUnits','AveragePrice', 'SpendPerTrans'].mean())\n"
      ],
      "execution_count": 342,
      "outputs": [
        {
          "output_type": "stream",
          "name": "stderr",
          "text": [
            "/usr/local/lib/python3.7/dist-packages/ipykernel_launcher.py:2: FutureWarning: Indexing with multiple keys (implicitly converted to a tuple of keys) will be deprecated, use a list instead.\n",
            "  \n"
          ]
        },
        {
          "output_type": "execute_result",
          "data": {
            "text/html": [
              "<div>\n",
              "<style scoped>\n",
              "    .dataframe tbody tr th:only-of-type {\n",
              "        vertical-align: middle;\n",
              "    }\n",
              "\n",
              "    .dataframe tbody tr th {\n",
              "        vertical-align: top;\n",
              "    }\n",
              "\n",
              "    .dataframe thead th {\n",
              "        text-align: right;\n",
              "    }\n",
              "</style>\n",
              "<table border=\"1\" class=\"dataframe\">\n",
              "  <thead>\n",
              "    <tr style=\"text-align: right;\">\n",
              "      <th></th>\n",
              "      <th>NTrans</th>\n",
              "      <th>NProducts</th>\n",
              "      <th>totalspend</th>\n",
              "      <th>TotalUnits</th>\n",
              "      <th>AveragePrice</th>\n",
              "      <th>SpendPerTrans</th>\n",
              "    </tr>\n",
              "    <tr>\n",
              "      <th>seg_10</th>\n",
              "      <th></th>\n",
              "      <th></th>\n",
              "      <th></th>\n",
              "      <th></th>\n",
              "      <th></th>\n",
              "      <th></th>\n",
              "    </tr>\n",
              "  </thead>\n",
              "  <tbody>\n",
              "    <tr>\n",
              "      <th>0</th>\n",
              "      <td>1.397501</td>\n",
              "      <td>68.414446</td>\n",
              "      <td>38.530034</td>\n",
              "      <td>9.719197</td>\n",
              "      <td>3.964323</td>\n",
              "      <td>27.570661</td>\n",
              "    </tr>\n",
              "    <tr>\n",
              "      <th>1</th>\n",
              "      <td>1.213661</td>\n",
              "      <td>13.952892</td>\n",
              "      <td>9.681335</td>\n",
              "      <td>5.758047</td>\n",
              "      <td>1.681357</td>\n",
              "      <td>7.976971</td>\n",
              "    </tr>\n",
              "    <tr>\n",
              "      <th>2</th>\n",
              "      <td>8.252024</td>\n",
              "      <td>76.062704</td>\n",
              "      <td>43.944106</td>\n",
              "      <td>14.088831</td>\n",
              "      <td>3.119074</td>\n",
              "      <td>5.325252</td>\n",
              "    </tr>\n",
              "    <tr>\n",
              "      <th>3</th>\n",
              "      <td>4.637032</td>\n",
              "      <td>20.035103</td>\n",
              "      <td>15.658978</td>\n",
              "      <td>8.666356</td>\n",
              "      <td>1.806870</td>\n",
              "      <td>3.376939</td>\n",
              "    </tr>\n",
              "    <tr>\n",
              "      <th>4</th>\n",
              "      <td>2.666928</td>\n",
              "      <td>40.083916</td>\n",
              "      <td>24.769732</td>\n",
              "      <td>9.583826</td>\n",
              "      <td>2.584535</td>\n",
              "      <td>9.287738</td>\n",
              "    </tr>\n",
              "    <tr>\n",
              "      <th>5</th>\n",
              "      <td>1.312470</td>\n",
              "      <td>1.788806</td>\n",
              "      <td>1.590581</td>\n",
              "      <td>1.487530</td>\n",
              "      <td>1.069277</td>\n",
              "      <td>1.211899</td>\n",
              "    </tr>\n",
              "    <tr>\n",
              "      <th>6</th>\n",
              "      <td>1.000000</td>\n",
              "      <td>25.852421</td>\n",
              "      <td>17.243265</td>\n",
              "      <td>7.207090</td>\n",
              "      <td>2.392542</td>\n",
              "      <td>17.243265</td>\n",
              "    </tr>\n",
              "    <tr>\n",
              "      <th>7</th>\n",
              "      <td>19.129622</td>\n",
              "      <td>224.244861</td>\n",
              "      <td>113.678972</td>\n",
              "      <td>21.629769</td>\n",
              "      <td>5.255672</td>\n",
              "      <td>5.942562</td>\n",
              "    </tr>\n",
              "    <tr>\n",
              "      <th>8</th>\n",
              "      <td>4.593401</td>\n",
              "      <td>132.408744</td>\n",
              "      <td>67.327386</td>\n",
              "      <td>13.602472</td>\n",
              "      <td>4.949643</td>\n",
              "      <td>14.657414</td>\n",
              "    </tr>\n",
              "    <tr>\n",
              "      <th>9</th>\n",
              "      <td>1.288910</td>\n",
              "      <td>6.280280</td>\n",
              "      <td>4.900900</td>\n",
              "      <td>3.713524</td>\n",
              "      <td>1.319744</td>\n",
              "      <td>3.802360</td>\n",
              "    </tr>\n",
              "  </tbody>\n",
              "</table>\n",
              "</div>"
            ],
            "text/plain": [
              "           NTrans   NProducts  ...  AveragePrice  SpendPerTrans\n",
              "seg_10                         ...                             \n",
              "0        1.397501   68.414446  ...      3.964323      27.570661\n",
              "1        1.213661   13.952892  ...      1.681357       7.976971\n",
              "2        8.252024   76.062704  ...      3.119074       5.325252\n",
              "3        4.637032   20.035103  ...      1.806870       3.376939\n",
              "4        2.666928   40.083916  ...      2.584535       9.287738\n",
              "5        1.312470    1.788806  ...      1.069277       1.211899\n",
              "6        1.000000   25.852421  ...      2.392542      17.243265\n",
              "7       19.129622  224.244861  ...      5.255672       5.942562\n",
              "8        4.593401  132.408744  ...      4.949643      14.657414\n",
              "9        1.288910    6.280280  ...      1.319744       3.802360\n",
              "\n",
              "[10 rows x 6 columns]"
            ]
          },
          "metadata": {},
          "execution_count": 342
        }
      ]
    },
    {
      "cell_type": "markdown",
      "metadata": {
        "id": "5EpCCf8yaNid"
      },
      "source": [
        "**Answer questions below**\n",
        "1. Which segment buys the most expensive items?\n",
        "    * Answer: seg 7\n",
        "1. Which segment spends the most? \n",
        "    * Answer:seg7\n",
        "1. Which segment buys the most variety of products?\n",
        "    * Answer: seg7\n",
        "1. Which segment buys the  least variety of products?\n",
        "    * Answer:sed5\n",
        "1. Are there any segments that seem like they should be combined?\n",
        "    * Answer: \n",
        "1. Suppose you want to run some promotions that will get customers to spend more. Pick 2 of the segments that are very different and describe a hypothetical promotional campaign targeted at each (e.g. could be some kind discount with a min. spend qualification, or maybe some kind of a volume discount, etc. - be creative). Explain why each campaign might be a better fit for the targeted segment.\n",
        "    * Answer: "
      ]
    },
    {
      "cell_type": "code",
      "metadata": {
        "id": "-pLDtx8lmPzq"
      },
      "source": [
        ""
      ],
      "execution_count": 314,
      "outputs": []
    },
    {
      "cell_type": "code",
      "metadata": {
        "id": "50TWKVKCLmJh"
      },
      "source": [
        ""
      ],
      "execution_count": 314,
      "outputs": []
    }
  ]
}